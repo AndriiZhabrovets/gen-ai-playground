{
 "cells": [
  {
   "cell_type": "markdown",
   "id": "232d8fc3-4938-41ce-ac1e-1e370142bbb9",
   "metadata": {},
   "source": [
    "# Links\n",
    "\n",
    "https://python.langchain.com/docs/how_to/custom_tools/\n",
    "\n",
    "https://python.langchain.com/docs/tutorials/agents/\n",
    "\n",
    "Tool collection:\n",
    "\n",
    "https://python.langchain.com/docs/integrations/tools/\n",
    "\n",
    "How to pass tool outputs back to LLMs:\n",
    "\n",
    "https://python.langchain.com/docs/how_to/tool_results_pass_to_model/\n",
    "\n",
    "Youtube tool:\n",
    "\n",
    "https://medium.com/mcd-unison/youtube-data-api-v3-in-python-tutorial-with-examples-e829a25d2ebd\n"
   ]
  },
  {
   "cell_type": "code",
   "execution_count": 5,
   "id": "c6475610-0f02-42c0-a27b-22a193450474",
   "metadata": {},
   "outputs": [],
   "source": [
    "%run utilities.ipynb\n",
    "llm_model = ChatOpenAI(model=\"gpt-3.5-turbo\", temperature=0) \n",
    "\n",
    "#llm_model = ChatOpenAI(model=\"gpt-4o\", temperature=0) \n"
   ]
  },
  {
   "cell_type": "markdown",
   "id": "93226143-48af-49e3-b09b-2f0b3e711d48",
   "metadata": {},
   "source": [
    "# LLM Ohne Tool"
   ]
  },
  {
   "cell_type": "code",
   "execution_count": 13,
   "id": "6d0cbfec-42ec-4de8-a2bc-b8e02da0c21b",
   "metadata": {},
   "outputs": [],
   "source": [
    "query=  f\"\"\"\"whats 5 times forty plus two plus 2^4 and the whole thing squared.\n",
    "        Take this result for the upper limit of an intergal over log(x) and lower limit=1, use latex formulas to write calculations.\"\"\"\n",
    "#Answer: 464262.48672797733220295225282993696497242417744988865603112297516\n",
    "#        Then take the square root and say good-bye\"\"\"\n",
    "#Answer=681.36\n",
    "answer=llm_model.invoke(query)"
   ]
  },
  {
   "cell_type": "code",
   "execution_count": 14,
   "id": "72248b92-029b-48de-82de-f4643cafe0f2",
   "metadata": {},
   "outputs": [
    {
     "name": "stdout",
     "output_type": "stream",
     "text": [
      "To calculate the expression:\n",
      "\n",
      "\\[ (5 \\times 40 + 2 + 2^4)^2 = (200 + 2 + 16)^2 = 218^2 = 47524 \\]\n",
      "\n",
      "Now, we can set up the integral using the upper limit as 47524 and the lower limit as 1:\n",
      "\n",
      "\\[ \\int_{1}^{47524} \\log(x) \\, dx \\]\n"
     ]
    }
   ],
   "source": [
    "print(answer.content)"
   ]
  },
  {
   "cell_type": "markdown",
   "id": "44692e21-bf5f-46d3-aa40-7e273fa768d0",
   "metadata": {},
   "source": [
    "# LLM mit Wolfram Mathe Tool und react agent\n",
    "\n",
    "Zuerst eine WOlfram API erstellen: https://developer.wolframalpha.com/access"
   ]
  },
  {
   "cell_type": "markdown",
   "id": "e64cee32-2c62-4885-82fe-367c61b90e0e",
   "metadata": {},
   "source": [
    "Hier ist eine kurze Erklärung des Codes:\n",
    "\n",
    "1. **Tool laden**: `load_tools([\"wolfram-alpha\"])` lädt das Wolfram Alpha-Tool und speichert es in `wolfram_tool`.\n",
    "2. **Tools initialisieren**: Die geladenen Tools werden in eine Liste `tools` eingefügt, um sie später an den Agenten zu binden.\n",
    "3. **Agenten erstellen**: `create_react_agent(llm_model, tools)` erstellt einen `agent_executor`, der das Sprachmodell (`llm_model`) mit den Tools kombiniert und auf Anfragen reagieren kann.\n",
    "4. **Anfrage verarbeiten**: `agent_executor.invoke({\"messages\": [HumanMessage(content=query)]})` führt die Anfrage (`query`) aus und gibt die Antwort des Agenten zurück.\n",
    "\n",
    "Dieser Aufbau ermöglicht es dem Agenten, auf Anfragen zu reagieren und das Wolfram Alpha-Tool dynamisch zur Berechnung oder Informationsabfrage zu verwenden."
   ]
  },
  {
   "cell_type": "code",
   "execution_count": 15,
   "id": "17061e50-b379-4cce-bead-50b4ae60c375",
   "metadata": {},
   "outputs": [],
   "source": [
    "from langchain.agents import load_tools\n",
    "wolfram_tool = load_tools([\"wolfram-alpha\"])\n",
    "tools = [*wolfram_tool]\n",
    "from langgraph.prebuilt import create_react_agent\n",
    "agent_executor = create_react_agent(llm_model, tools)\n",
    "response = agent_executor.invoke({\"messages\": [HumanMessage(content=query)]})"
   ]
  },
  {
   "cell_type": "code",
   "execution_count": 16,
   "id": "c042cef8-3382-49dc-a245-685189cc5dd6",
   "metadata": {},
   "outputs": [
    {
     "name": "stdout",
     "output_type": "stream",
     "text": [
      "None\n",
      "\"whats 5 times forty plus two plus 2^4 and the whole thing squared.\n",
      "        Take this result for the upper limit of an intergal over log(x) and lower limit=1, use latex formulas to write calculations.\n",
      "None\n",
      "\n",
      "wolfram_alpha\n",
      "Assumption: (5×40 + 2 + 2^4)^2 \n",
      "Answer: 47524\n",
      "None\n",
      "\n",
      "wolfram_alpha\n",
      "Assumption: integral_1^47524 log(x) dx = 47524 log(47524) - 47523≈464260. \n",
      "Answer: integral_1^47524 log(x) dx = 47524 log(47524) - 47523≈464260.\n",
      "None\n",
      "The calculation is as follows:\n",
      "\n",
      "Let \\( y = (5 \\times 40 + 2 + 2^4)^2 = 47524 \\)\n",
      "\n",
      "The integral over \\( \\log(x) \\) from 1 to \\( y \\) is:\n",
      "\n",
      "\\[ \\int_{1}^{47524} \\log(x) \\, dx = 47524 \\log(47524) - 47523 \\approx 464260 \\]\n"
     ]
    }
   ],
   "source": [
    "for i in response[\"messages\"]:\n",
    "    print(i.name)  \n",
    "    print(i.content)\n",
    "    "
   ]
  },
  {
   "cell_type": "markdown",
   "id": "2b3e6567-5836-43b4-909d-d6b1de280c64",
   "metadata": {},
   "source": [
    "# Tools\n",
    "\n",
    "Dekoratoren (@tool):\n",
    "Die Funktionen sind mit dem Dekorator @tool markiert. Dies deutet darauf hin, dass diese Funktionen  Teil eines größeren Systems sind, in dem Tools für bestimmte Zwecke verwendet werden (z. B. in einem Chatbot-Framework oder einer API). Der Dekorator @tool wird  verwendet, um diese Funktionen zu registrieren, damit sie programmatisch oder dynamisch aufgerufen werden können.\n",
    "\n",
    "Funktionen:\n",
    "multiply(a: int, b: int) -> int:\n",
    "\n",
    "Diese Funktion nimmt zwei ganze Zahlen (a und b) als Eingabe und gibt deren Produkt zurück.\n",
    "Die Typangaben (-> int) zeigen an, dass die Ausgabe ebenfalls eine ganze Zahl ist.\n",
    "Dies ist eine einfache Hilfsfunktion zum Multiplizieren zweier Zahlen.\n",
    "add(first_int: int, second_int: int) -> int:\n",
    "\n",
    "Diese Funktion addiert zwei Ganzzahlen, first_int und second_int, und gibt das Ergebnis zurück.\n",
    "Der Zweck besteht darin, eine einfache Addition durchzuführen.\n",
    "exponentiate(base: int, exponent: int) -> int:\n"
   ]
  },
  {
   "cell_type": "code",
   "execution_count": 17,
   "id": "94eb03d4-0f0f-4187-a945-fec70daad8a0",
   "metadata": {},
   "outputs": [
    {
     "name": "stdout",
     "output_type": "stream",
     "text": [
      "multiply\n",
      "Multiply two numbers.\n",
      "{'a': {'title': 'A', 'type': 'integer'}, 'b': {'title': 'B', 'type': 'integer'}}\n"
     ]
    }
   ],
   "source": [
    "@tool\n",
    "def multiply(a: int, b: int) -> int:\n",
    "    \"\"\"Multiply two numbers.\"\"\"\n",
    "    return a * b\n",
    "\n",
    "@tool\n",
    "def add(first_int: int, second_int: int) -> int:\n",
    "    \"Add two integers.\"\n",
    "    return first_int + second_int\n",
    "\n",
    "\n",
    "\n",
    "# Let's inspect some of the attributes associated with the tool.\n",
    "print(multiply.name)\n",
    "print(multiply.description)\n",
    "print(multiply.args)"
   ]
  },
  {
   "cell_type": "markdown",
   "id": "43562515-55f9-4eb8-a735-c47078f2146a",
   "metadata": {},
   "source": [
    "Der Einsatz von async kann in größeren Anwendungen nützlich sein, bei denen jede Funktion (auch einfache wie die Multiplikation) in eine asynchrone Eventschleife passen muss, was der Fall sein könnte, \n",
    "wenn diese Funktion in einem Webframework oder Chatbot-System mit asynchroner Anfragebearbeitung verwendet wird."
   ]
  },
  {
   "cell_type": "code",
   "execution_count": 18,
   "id": "5eb916d0-dcb6-449d-a64b-f3db6ac71043",
   "metadata": {},
   "outputs": [],
   "source": [
    "# Asynch\n",
    "@tool\n",
    "async def amultiply(a: int, b: int) -> int:\n",
    "    \"\"\"Multiply two numbers.\"\"\"\n",
    "    return a * b"
   ]
  },
  {
   "cell_type": "markdown",
   "id": "e6fc5f94-8549-4e85-820b-aee795f30ec9",
   "metadata": {},
   "source": [
    "## Exercise: \n",
    "\n",
    "Erzeuge ein tool (exponentiate), welches Zahlen exponentiert. Verwende multiply, add und exponentiate  mit dem react agent, um eine Matheaufgabe zu lösen"
   ]
  },
  {
   "cell_type": "code",
   "execution_count": 12,
   "id": "e86a26dd-05ad-4b05-bf74-8b16090d4972",
   "metadata": {},
   "outputs": [
    {
     "ename": "NameError",
     "evalue": "name 'exponentiate' is not defined",
     "output_type": "error",
     "traceback": [
      "\u001b[0;31m---------------------------------------------------------------------------\u001b[0m",
      "\u001b[0;31mNameError\u001b[0m                                 Traceback (most recent call last)",
      "Cell \u001b[0;32mIn[12], line 1\u001b[0m\n\u001b[0;32m----> 1\u001b[0m tools \u001b[38;5;241m=\u001b[39m [multiply, add, \u001b[43mexponentiate\u001b[49m]\n",
      "\u001b[0;31mNameError\u001b[0m: name 'exponentiate' is not defined"
     ]
    }
   ],
   "source": [
    "\n",
    "tools = [multiply, add, exponentiate]"
   ]
  },
  {
   "cell_type": "code",
   "execution_count": null,
   "id": "d71f2622-d73b-433b-89f6-4019bbcda723",
   "metadata": {},
   "outputs": [],
   "source": []
  }
 ],
 "metadata": {
  "kernelspec": {
   "display_name": "Python 3 (ipykernel)",
   "language": "python",
   "name": "python3"
  },
  "language_info": {
   "codemirror_mode": {
    "name": "ipython",
    "version": 3
   },
   "file_extension": ".py",
   "mimetype": "text/x-python",
   "name": "python",
   "nbconvert_exporter": "python",
   "pygments_lexer": "ipython3",
   "version": "3.11.2"
  }
 },
 "nbformat": 4,
 "nbformat_minor": 5
}
