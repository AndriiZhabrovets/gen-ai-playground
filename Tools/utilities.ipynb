{
 "cells": [
  {
   "cell_type": "code",
   "execution_count": 1,
   "id": "e31c938b-fe19-48b4-a648-916c0ffd71c6",
   "metadata": {},
   "outputs": [],
   "source": [
    "#pip install langchain langchain-core langchain-core langchain-community langgraph openai langgraph.checkpoint.sqlite"
   ]
  },
  {
   "cell_type": "markdown",
   "id": "85e3fcba-3004-43d6-ba4a-53f714c6298f",
   "metadata": {},
   "source": [
    "# Pip install the following\n",
    "\n",
    "langchain\n",
    "langchain-core\n",
    "langchain-core\n",
    "langchain-openai\n",
    "langchain-community\n",
    "langgraph\n",
    "openai\n",
    "langgraph.checkpoint.sqlite\n",
    "\n",
    "google-generativeai\n",
    "ipywidgets\n",
    "tavily-python\n",
    "param\n",
    "deepl\n",
    "panel\n",
    "serpapi\n",
    "\n",
    "llamaapi\n",
    "\n"
   ]
  },
  {
   "cell_type": "code",
   "execution_count": 3,
   "id": "84281693-822e-483b-9dbf-9a61480e5a50",
   "metadata": {},
   "outputs": [],
   "source": [
    "########### Langchain   ##########################\n",
    "from langchain_openai import ChatOpenAI\n",
    "from langchain_core.messages import SystemMessage, HumanMessage\n",
    "from langchain.agents import initialize_agent, Tool,AgentType\n",
    "from langchain_core.tools import tool\n",
    "\n"
   ]
  },
  {
   "cell_type": "code",
   "execution_count": 4,
   "id": "8ce6a989-4ad0-4ef2-8cc3-e069b1ee812c",
   "metadata": {},
   "outputs": [],
   "source": [
    "############## LLm models ##############\n",
    "import openai\n",
    "from openai import OpenAI\n"
   ]
  },
  {
   "cell_type": "code",
   "execution_count": 5,
   "id": "1626add3-5f40-4488-bc07-ea5a9a7a2302",
   "metadata": {},
   "outputs": [],
   "source": [
    "############## Stuff ##############\n",
    "import locale\n",
    "import yaml\n",
    "import os\n"
   ]
  },
  {
   "cell_type": "code",
   "execution_count": 10,
   "id": "5aed8e89-ead4-4bba-9b4c-53b73d74cdef",
   "metadata": {
    "scrolled": true
   },
   "outputs": [],
   "source": [
    "################## Loading API keys and initializing clients and llm_models ###############################\n",
    "locale.getpreferredencoding = lambda: \"UTF-8\"\n",
    "with open('../chatgpt_api_credentials.yml', 'r') as file:\n",
    "    api_creds = yaml.safe_load(file)\n",
    "api_creds.keys()\n",
    "os.environ['OPENAI_API_KEY'] = api_creds['openai_key']\n",
    "openai_key  = api_creds['openai_key']\n",
    "os.environ[\"WOLFRAM_ALPHA_APPID\"] =api_creds['wolfram_key']\n",
    "model= ChatOpenAI(model=\"gpt-3.5-turbo\", temperature=0)\n"
   ]
  },
  {
   "cell_type": "code",
   "execution_count": 11,
   "id": "0eb7e643",
   "metadata": {},
   "outputs": [
    {
     "name": "stdout",
     "output_type": "stream",
     "text": [
      "Collecting wolframalpha\n",
      "  Downloading wolframalpha-5.1.3-py3-none-any.whl.metadata (2.4 kB)\n",
      "Collecting xmltodict (from wolframalpha)\n",
      "  Downloading xmltodict-0.14.2-py2.py3-none-any.whl.metadata (8.0 kB)\n",
      "Collecting more-itertools (from wolframalpha)\n",
      "  Downloading more_itertools-10.5.0-py3-none-any.whl.metadata (36 kB)\n",
      "Collecting jaraco.context (from wolframalpha)\n",
      "  Downloading jaraco.context-6.0.1-py3-none-any.whl.metadata (4.1 kB)\n",
      "Requirement already satisfied: httpx in /Library/Frameworks/Python.framework/Versions/3.11/lib/python3.11/site-packages (from wolframalpha) (0.25.2)\n",
      "Requirement already satisfied: multidict in /Library/Frameworks/Python.framework/Versions/3.11/lib/python3.11/site-packages (from wolframalpha) (6.0.4)\n",
      "Requirement already satisfied: anyio in /Library/Frameworks/Python.framework/Versions/3.11/lib/python3.11/site-packages (from httpx->wolframalpha) (3.6.2)\n",
      "Requirement already satisfied: certifi in /Library/Frameworks/Python.framework/Versions/3.11/lib/python3.11/site-packages (from httpx->wolframalpha) (2022.12.7)\n",
      "Requirement already satisfied: httpcore==1.* in /Library/Frameworks/Python.framework/Versions/3.11/lib/python3.11/site-packages (from httpx->wolframalpha) (1.0.2)\n",
      "Requirement already satisfied: idna in /Library/Frameworks/Python.framework/Versions/3.11/lib/python3.11/site-packages (from httpx->wolframalpha) (2.10)\n",
      "Requirement already satisfied: sniffio in /Library/Frameworks/Python.framework/Versions/3.11/lib/python3.11/site-packages (from httpx->wolframalpha) (1.3.0)\n",
      "Requirement already satisfied: h11<0.15,>=0.13 in /Library/Frameworks/Python.framework/Versions/3.11/lib/python3.11/site-packages (from httpcore==1.*->httpx->wolframalpha) (0.14.0)\n",
      "Collecting backports.tarfile (from jaraco.context->wolframalpha)\n",
      "  Downloading backports.tarfile-1.2.0-py3-none-any.whl.metadata (2.0 kB)\n",
      "Downloading wolframalpha-5.1.3-py3-none-any.whl (6.3 kB)\n",
      "Downloading jaraco.context-6.0.1-py3-none-any.whl (6.8 kB)\n",
      "Downloading more_itertools-10.5.0-py3-none-any.whl (60 kB)\n",
      "Downloading xmltodict-0.14.2-py2.py3-none-any.whl (10.0 kB)\n",
      "Downloading backports.tarfile-1.2.0-py3-none-any.whl (30 kB)\n",
      "Installing collected packages: xmltodict, more-itertools, backports.tarfile, jaraco.context, wolframalpha\n",
      "Successfully installed backports.tarfile-1.2.0 jaraco.context-6.0.1 more-itertools-10.5.0 wolframalpha-5.1.3 xmltodict-0.14.2\n",
      "\n",
      "\u001b[1m[\u001b[0m\u001b[34;49mnotice\u001b[0m\u001b[1;39;49m]\u001b[0m\u001b[39;49m A new release of pip is available: \u001b[0m\u001b[31;49m24.2\u001b[0m\u001b[39;49m -> \u001b[0m\u001b[32;49m24.3.1\u001b[0m\n",
      "\u001b[1m[\u001b[0m\u001b[34;49mnotice\u001b[0m\u001b[1;39;49m]\u001b[0m\u001b[39;49m To update, run: \u001b[0m\u001b[32;49mpip install --upgrade pip\u001b[0m\n",
      "Note: you may need to restart the kernel to use updated packages.\n"
     ]
    }
   ],
   "source": []
  },
  {
   "cell_type": "code",
   "execution_count": null,
   "id": "e1073c00",
   "metadata": {},
   "outputs": [],
   "source": []
  }
 ],
 "metadata": {
  "kernelspec": {
   "display_name": "Python 3 (ipykernel)",
   "language": "python",
   "name": "python3"
  },
  "language_info": {
   "codemirror_mode": {
    "name": "ipython",
    "version": 3
   },
   "file_extension": ".py",
   "mimetype": "text/x-python",
   "name": "python",
   "nbconvert_exporter": "python",
   "pygments_lexer": "ipython3",
   "version": "3.11.2"
  }
 },
 "nbformat": 4,
 "nbformat_minor": 5
}
