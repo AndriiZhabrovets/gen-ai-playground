{
 "cells": [
  {
   "cell_type": "markdown",
   "id": "fd16bf63-e689-45ab-a1f9-417d4c193824",
   "metadata": {},
   "source": [
    "# Panel\n"
   ]
  },
  {
   "cell_type": "code",
   "execution_count": 1,
   "id": "1ad3821d-d6b4-4ace-a0a9-ff23233241f4",
   "metadata": {},
   "outputs": [],
   "source": [
    "import panel as pn"
   ]
  },
  {
   "cell_type": "markdown",
   "id": "c4d7a462-656c-49b3-97f6-824a43899c46",
   "metadata": {},
   "source": [
    "Der Code,  erstellt ein einfaches Dashboard-Layout mit zwei Tabs (Registerkarten) in Python unter Verwendung des Pakets `panel` (importiert als `pn`). Hier eine detaillierte Erklärung:\n",
    "\n",
    "1. **Tab1 und Tab2 Definition**:\n",
    "   - `Tab1 = pn.Column(state[\"input\"])`: Hier wird eine Spalte (`Column`) erstellt, die die Daten oder den Inhalt anzeigt, die in text1` gespeichert sind. Dies könnte Benutzereingaben oder andere spezifische Inhalte sein.\n",
    "   - `Tab2 = pn.Column(state[\"messages\"])`: Ähnlich wie `Tab1` erstellt dies eine Spalte mit den Inhalten von text2.\n",
    "2. **Layout Erstellen**:\n",
    "   - `layout = pn.Column(...)`: Die Hauptspalte des Layouts enthält ein `Tabs`-Element (Registerkarten).\n",
    "   - `pn.Tabs(('Answer', Tab1), ('Metadata', Tab2))`: Erzeugt ein `Tabs`-Element mit zwei Registerkarten:\n",
    "     - **Question**: Zeigt den Inhalt von `Tab1` (d. h. `state[\"input\"]`) an.\n",
    "     - **Answer**: Zeigt den Inhalt von `Tab2` (d. h. `state[\"messages\"]`) an.\n",
    "\n",
    "3. **Anzeige des Layouts**:\n",
    "   - `layout.show()`: Zeigt das erstellte Layout in einem separaten Fenster oder einem interaktiven Kontext an, abhängig davon, wie `panel` konfiguriert ist.\n",
    "\n",
    "Zusammengefasst:\n",
    "Dieser Code erstellt ein Panel-Dashboard mit zwei Registerkarten: eine für Eingaben (`Question`) und eine für zusätzliche Informationen oder Metadaten (`Answer`)."
   ]
  },
  {
   "cell_type": "code",
   "execution_count": 12,
   "id": "cd08ee0f-93e3-462e-b8d4-35de4deb9160",
   "metadata": {},
   "outputs": [
    {
     "name": "stdout",
     "output_type": "stream",
     "text": [
      "Launching server at http://localhost:55004\n"
     ]
    },
    {
     "data": {
      "text/plain": [
       "<panel.io.server.Server at 0x24318f32a70>"
      ]
     },
     "execution_count": 12,
     "metadata": {},
     "output_type": "execute_result"
    }
   ],
   "source": [
    "text1=\"Wassuup\"\n",
    "text2=\"Not much\"\n",
    "Tab1 =pn.Column(text1)\n",
    "Tab2 =pn.Column(text2)\n",
    "\n",
    "layout = pn.Column(pn.Tabs(('Question', Tab1),('Answer',Tab2)))\n",
    "layout.show()"
   ]
  },
  {
   "cell_type": "markdown",
   "id": "d98e7461-a9bf-4523-acb1-9777f4bbea6d",
   "metadata": {},
   "source": [
    "### Hier sind die Ausgaben untereinander"
   ]
  },
  {
   "cell_type": "code",
   "execution_count": 13,
   "id": "d10f5290-3d10-481a-a98a-77a4ef6a974b",
   "metadata": {},
   "outputs": [
    {
     "name": "stdout",
     "output_type": "stream",
     "text": [
      "Launching server at http://localhost:55012\n"
     ]
    },
    {
     "data": {
      "text/plain": [
       "<panel.io.server.Server at 0x24318c4d960>"
      ]
     },
     "execution_count": 13,
     "metadata": {},
     "output_type": "execute_result"
    }
   ],
   "source": [
    "Tab1 =pn.Column(text1,text2)\n",
    "layout = pn.Column(pn.Tabs(('Frage und Antwort', Tab1)))\n",
    "layout.show()"
   ]
  },
  {
   "cell_type": "markdown",
   "id": "2a738993-96b6-4d75-a185-544c1d2bc113",
   "metadata": {},
   "source": [
    "### Hier werden zwei Spalten nebeneinander erzeugt"
   ]
  },
  {
   "cell_type": "code",
   "execution_count": 5,
   "id": "7ffebc75-def2-4907-9499-dd78033a3b8b",
   "metadata": {},
   "outputs": [
    {
     "name": "stdout",
     "output_type": "stream",
     "text": [
      "Launching server at http://localhost:57309\n"
     ]
    },
    {
     "data": {
      "text/plain": [
       "<panel.io.server.Server at 0x24318b77c40>"
      ]
     },
     "execution_count": 5,
     "metadata": {},
     "output_type": "execute_result"
    }
   ],
   "source": [
    "column1 =pn.Column(text1)\n",
    "column2 =pn.Column(text2)\n",
    "Tab = pn.Column(pn.Row(column1,column2,sizing_mode=\"stretch_width\"),height=20)\n",
    "layout = pn.Column(pn.Tabs(('Frage und Antwort', Tab)))\n",
    "\n",
    "layout.show()"
   ]
  },
  {
   "cell_type": "markdown",
   "id": "067c18d2-d4b5-43ac-89d1-2201ff7a74e8",
   "metadata": {},
   "source": [
    "## Panel mit widget für  user input"
   ]
  },
  {
   "cell_type": "markdown",
   "id": "fc0e7324-3e1b-49e7-8a8d-651f6b35da1a",
   "metadata": {},
   "source": [
    "\n",
    "\n",
    "Dieser Code verwendet Panel, eine Python-Bibliothek zur Erstellung interaktiver Webanwendungen, um eine einfache Benutzeroberfläche für die Eingabe und Ausgabe anzuzeigen. Hier ist eine Zusammenfassung der einzelnen Komponenten:\n",
    "\n",
    "1. **Text-Eingabefeld**:\n",
    "   ```python\n",
    "   input_widget = pn.widgets.TextInput(name=\"Bitte hier eingeben\", placeholder=\"Aufgabe\", sizing_mode=\"stretch_width\")\n",
    "   ```\n",
    "   - Dies erstellt ein Text-Eingabefeld, in dem Benutzer Text eingeben können. Der Parameter `name` benennt das Widget, während `placeholder` einen Hinweis auf das Eingabefeld gibt (in diesem Fall \"Aufgabe\"). `sizing_mode=\"stretch_width\"` sorgt dafür, dass das Widget sich horizontal an seine Umgebung anpasst.\n",
    "\n",
    "2. **Markdown-Anzeige für Ausgabe**:\n",
    "   ```python\n",
    "   output = pn.pane.Markdown(\"Antwort\")\n",
    "   ```\n",
    "   - Dies erstellt ein Markdown-Panel, um den Ausgabetext anzuzeigen. Anfangs ist es auf \"Antwort\" gesetzt, wird jedoch aktualisiert, wenn sich die Eingabe ändert. Dieses Panel ist der Bereich, in dem die „Antwort“ angezeigt wird, nachdem sie generiert wurde.\n",
    "\n",
    "3. **Funktion zur Verarbeitung der Eingabe**:\n",
    "   ```python\n",
    "   def input_function(event):\n",
    "       answer = input_widget.value\n",
    "       output.object = f\"**Antwort:**\\n\\n{answer}\"\n",
    "   ```\n",
    "   - Diese Funktion holt den Wert aus `input_widget`, wenn die Schaltfläche geklickt wird, und aktualisiert das `output`-Panel mit dem eingegebenen Text und formatiert es als \"**Antwort:** <Antwort_Text>\".\n",
    "\n",
    "4. **Antwort-Schaltfläche**:\n",
    "   ```python\n",
    "   answer_button = pn.widgets.Button(name=\"Antwort\", button_type=\"primary\")\n",
    "   ```\n",
    "   - Diese Schaltfläche, beschriftet mit „Antwort“, löst die `input_function` aus, wenn sie geklickt wird. Sie hat einen `primary` Stil, um visuell hervorzuheben.\n",
    "\n",
    "5. **Schaltflächen-Ereignisbindung**:\n",
    "   ```python\n",
    "   answer_button.on_click(input_function)\n",
    "   ```\n",
    "   - Dies bindet die `input_function` an das Klick-Ereignis der Schaltfläche, sodass die Funktion jedes Mal ausgeführt wird, wenn die Schaltfläche geklickt wird.\n",
    "\n",
    "6. **Anwendungs-Layout**:\n",
    "   - Das Layout ist in zwei Hauptteile organisiert:\n",
    "     - `Tab` (eine `pn.Column`) enthält das Eingabefeld, die Antwort-Schaltfläche, einen Trennstrich und das Ausgabepanel.\n",
    "     - `layout` (eine weitere `pn.Column`) umschließt `Tab` innerhalb einer Tab-Struktur, um mögliche zukünftige Erweiterungen zu ermöglichen.\n",
    "   - `layout.show()` rendert die Anwendung zur Anzeige.\n",
    "\n",
    "Zusammenfassend baut dieser Code eine interaktive Anwendung, in der Benutzer Text eingeben, eine Schaltfläche klicken und den Text formatiert in der Ausgabe sehen können. Diese App könnte als Vorlage für Eingabe-Ausgabe-Anwendungen dienen, die benutzergesteuerte Antworten dynamisch anzeigen sollen.\n",
    "\n"
   ]
  },
  {
   "cell_type": "code",
   "execution_count": 8,
   "id": "f0d138e2-448c-4e65-a90c-79236812b96e",
   "metadata": {},
   "outputs": [
    {
     "name": "stdout",
     "output_type": "stream",
     "text": [
      "Launching server at http://localhost:62925\n"
     ]
    },
    {
     "data": {
      "text/plain": [
       "<panel.io.server.Server at 0x24318b75d50>"
      ]
     },
     "execution_count": 8,
     "metadata": {},
     "output_type": "execute_result"
    }
   ],
   "source": [
    "input_widget = pn.widgets.TextInput(name=\"Input here please\", placeholder=\"Task\", sizing_mode=\"stretch_width\")\n",
    "output = pn.pane.Markdown(\"Answer\")  # This will display the answer text\n",
    "\n",
    "# Function to handle input and update the output\n",
    "def input_function(event):\n",
    "    answer=input_widget.value\n",
    "    # Retrieve the answer and update the output pane\n",
    "#    answer = state.get(\"messages\", \"No response received.\")  # Fallback message if \"messages\" is missing\n",
    "    output.object = f\"**Answer:**\\n\\n{answer}\"  # Update output with the answer\n",
    "\n",
    "# Set up the answer button and bind the function\n",
    "answer_button = pn.widgets.Button(name=\"Answer\", button_type=\"primary\")\n",
    "answer_button.on_click(input_function)\n",
    "\n",
    "# Layout with question input, answer button, and output display\n",
    "Tab = pn.Column(\n",
    "    pn.Row(input_widget),\n",
    "    pn.panel(answer_button, loading_indicator=True, height=50),\n",
    "    pn.layout.Divider(),\n",
    "    pn.panel(output, loading_indicator=True, height=900),\n",
    "    sizing_mode=\"stretch_width\"\n",
    ")\n",
    "\n",
    "layout = pn.Column(pn.Tabs(('Answer', Tab)))\n",
    "layout.show()\n"
   ]
  },
  {
   "cell_type": "markdown",
   "id": "36aaf59c-3dfd-4618-93ad-c1772f66de6f",
   "metadata": {},
   "source": [
    "# Version 2\n",
    "\n",
    "input_function wird mit pn.bind(input_function,question) mit dem widget verbunden"
   ]
  },
  {
   "cell_type": "code",
   "execution_count": 9,
   "id": "c13fc8cd-a5ad-42a1-9918-8c72b81f4f2a",
   "metadata": {},
   "outputs": [
    {
     "name": "stdout",
     "output_type": "stream",
     "text": [
      "Launching server at http://localhost:62949\n"
     ]
    },
    {
     "data": {
      "text/plain": [
       "<panel.io.server.Server at 0x24318bc3340>"
      ]
     },
     "execution_count": 9,
     "metadata": {},
     "output_type": "execute_result"
    },
    {
     "name": "stdout",
     "output_type": "stream",
     "text": [
      "input_function I am just a dumb computer programm and don't know the answer to What time is it\n"
     ]
    }
   ],
   "source": [
    "def input_function(question:str):\n",
    "    answer=\"I am just a dumb computer programm and don't know the answer to \"+question\n",
    "    print(\"input_function\",answer)\n",
    "    return answer\n",
    "\n",
    "## Widget für die Eingabe\n",
    "question = pn.widgets.TextInput(name=\"Input here please\", placeholder=\"Task\", sizing_mode=\"stretch_width\")\n",
    "## Panel für die AUsgabe\n",
    "output = pn.pane.Markdown(\"Answer\")\n",
    "\n",
    "## Funktion, welche bei button_click der input_function die Frage, welche in das Widget eingegebn wurde übergibt. \n",
    "## Das Resultat von input_function wird an den output übetragen, weler in der App angezeigt wird \n",
    "def button_click(event):\n",
    "    if answer_button.clicks > 0:\n",
    "        bound_function = pn.bind(input_function, question)\n",
    "        try:\n",
    "            result = bound_function()\n",
    "            output.object = f\"Start answer:\\n {result}\"\n",
    "        except Exception as e:\n",
    "             output.object = f\"Error in start_button_click: {e}\"\n",
    "\n",
    "answer_button = pn.widgets.Button(name=\"Answer\", button_type=\"primary\", width=50, height=50)\n",
    "answer_button.on_click(button_click)\n",
    "\n",
    "Tab = pn.Column(\n",
    "            pn.Row(question),\n",
    "            pn.panel(answer_button, loading_indicator=True, height=50),\n",
    "            pn.layout.Divider(),\n",
    "            pn.panel(output, loading_indicator=True, height=900),\n",
    "            sizing_mode=\"stretch_width\"\n",
    "        )\n",
    "\n",
    "\n",
    "layout = pn.Column(pn.Tabs(('Answer', Tab)))\n",
    "layout.show()"
   ]
  },
  {
   "cell_type": "markdown",
   "id": "d488023d-40c0-46cb-8566-fd43ad26a502",
   "metadata": {},
   "source": [
    "# Exercise: \n",
    "\n",
    "Erzeugen Sie eine input_function mit 2 Eingabewerten, question1,question2. \n",
    "Verwenden Sie 2 widgets, wo diese Werte eingegeben werden können, und verbinden Sie diese widgets mit pn.bind(input_function, question1,question2)\n"
   ]
  },
  {
   "cell_type": "code",
   "execution_count": null,
   "id": "515b9075-bb0e-44e3-a1bb-69a0f3218f7c",
   "metadata": {},
   "outputs": [],
   "source": []
  }
 ],
 "metadata": {
  "kernelspec": {
   "display_name": "Python 3 (ipykernel)",
   "language": "python",
   "name": "python3"
  },
  "language_info": {
   "codemirror_mode": {
    "name": "ipython",
    "version": 3
   },
   "file_extension": ".py",
   "mimetype": "text/x-python",
   "name": "python",
   "nbconvert_exporter": "python",
   "pygments_lexer": "ipython3",
   "version": "3.10.0"
  }
 },
 "nbformat": 4,
 "nbformat_minor": 5
}
