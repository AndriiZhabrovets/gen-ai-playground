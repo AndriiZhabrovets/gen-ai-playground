{
 "cells": [
  {
   "cell_type": "markdown",
   "id": "fd16bf63-e689-45ab-a1f9-417d4c193824",
   "metadata": {},
   "source": [
    "# Panel\n"
   ]
  },
  {
   "cell_type": "code",
   "execution_count": 1,
   "id": "1ad3821d-d6b4-4ace-a0a9-ff23233241f4",
   "metadata": {},
   "outputs": [],
   "source": [
    "import panel as pn"
   ]
  },
  {
   "cell_type": "markdown",
   "id": "c4d7a462-656c-49b3-97f6-824a43899c46",
   "metadata": {},
   "source": [
    "Der Code,  erstellt ein einfaches Dashboard-Layout mit zwei Tabs (Registerkarten) in Python unter Verwendung des Pakets `panel` (importiert als `pn`). Hier eine detaillierte Erklärung:\n",
    "\n",
    "1. **Tab1 und Tab2 Definition**:\n",
    "   - `Tab1 = pn.Column(state[\"input\"])`: Hier wird eine Spalte (`Column`) erstellt, die die Daten oder den Inhalt anzeigt, die in text1` gespeichert sind. Dies könnte Benutzereingaben oder andere spezifische Inhalte sein.\n",
    "   - `Tab2 = pn.Column(state[\"messages\"])`: Ähnlich wie `Tab1` erstellt dies eine Spalte mit den Inhalten von text2.\n",
    "2. **Layout Erstellen**:\n",
    "   - `layout = pn.Column(...)`: Die Hauptspalte des Layouts enthält ein `Tabs`-Element (Registerkarten).\n",
    "   - `pn.Tabs(('Answer', Tab1), ('Metadata', Tab2))`: Erzeugt ein `Tabs`-Element mit zwei Registerkarten:\n",
    "     - **Question**: Zeigt den Inhalt von `Tab1` (d. h. `state[\"input\"]`) an.\n",
    "     - **Answer**: Zeigt den Inhalt von `Tab2` (d. h. `state[\"messages\"]`) an.\n",
    "\n",
    "3. **Anzeige des Layouts**:\n",
    "   - `layout.show()`: Zeigt das erstellte Layout in einem separaten Fenster oder einem interaktiven Kontext an, abhängig davon, wie `panel` konfiguriert ist.\n",
    "\n",
    "Zusammengefasst:\n",
    "Dieser Code erstellt ein Panel-Dashboard mit zwei Registerkarten: eine für Eingaben (`Question`) und eine für zusätzliche Informationen oder Metadaten (`Answer`)."
   ]
  },
  {
   "cell_type": "code",
   "execution_count": 2,
   "id": "cd08ee0f-93e3-462e-b8d4-35de4deb9160",
   "metadata": {},
   "outputs": [
    {
     "name": "stdout",
     "output_type": "stream",
     "text": [
      "Launching server at http://localhost:54366\n"
     ]
    },
    {
     "data": {
      "text/plain": [
       "<panel.io.server.Server at 0x120cdb810>"
      ]
     },
     "execution_count": 2,
     "metadata": {},
     "output_type": "execute_result"
    }
   ],
   "source": [
    "text1=\"Wassuup\"\n",
    "text2=\"Not much\"\n",
    "Tab1 =pn.Column(text1)\n",
    "Tab2 =pn.Column(text2)\n",
    "\n",
    "layout = pn.Column(pn.Tabs(('Question', Tab1),('Answer',Tab2)))\n",
    "layout.show()"
   ]
  },
  {
   "cell_type": "markdown",
   "id": "d98e7461-a9bf-4523-acb1-9777f4bbea6d",
   "metadata": {},
   "source": [
    "### Hier sind die Ausgaben untereinander"
   ]
  },
  {
   "cell_type": "code",
   "execution_count": 3,
   "id": "d10f5290-3d10-481a-a98a-77a4ef6a974b",
   "metadata": {},
   "outputs": [
    {
     "name": "stdout",
     "output_type": "stream",
     "text": [
      "Launching server at http://localhost:54481\n"
     ]
    },
    {
     "data": {
      "text/plain": [
       "<panel.io.server.Server at 0x12478afd0>"
      ]
     },
     "execution_count": 3,
     "metadata": {},
     "output_type": "execute_result"
    }
   ],
   "source": [
    "Tab1 =pn.Column(text1,text2)\n",
    "layout = pn.Column(pn.Tabs(('Frage und Antwort', Tab1)))\n",
    "layout.show()"
   ]
  },
  {
   "cell_type": "markdown",
   "id": "2a738993-96b6-4d75-a185-544c1d2bc113",
   "metadata": {},
   "source": [
    "### Hier werden zwei Spalten nebeneinander erzeugt"
   ]
  },
  {
   "cell_type": "code",
   "execution_count": 5,
   "id": "7ffebc75-def2-4907-9499-dd78033a3b8b",
   "metadata": {},
   "outputs": [
    {
     "name": "stdout",
     "output_type": "stream",
     "text": [
      "Launching server at http://localhost:57309\n"
     ]
    },
    {
     "data": {
      "text/plain": [
       "<panel.io.server.Server at 0x24318b77c40>"
      ]
     },
     "execution_count": 5,
     "metadata": {},
     "output_type": "execute_result"
    }
   ],
   "source": [
    "column1 =pn.Column(text1)\n",
    "column2 =pn.Column(text2)\n",
    "Tab = pn.Column(pn.Row(column1,column2,sizing_mode=\"stretch_width\"),height=20)\n",
    "layout = pn.Column(pn.Tabs(('Frage und Antwort', Tab)))\n",
    "\n",
    "layout.show()"
   ]
  },
  {
   "cell_type": "markdown",
   "id": "067c18d2-d4b5-43ac-89d1-2201ff7a74e8",
   "metadata": {},
   "source": [
    "## Panel mit widget für  user input"
   ]
  },
  {
   "cell_type": "markdown",
   "id": "fc0e7324-3e1b-49e7-8a8d-651f6b35da1a",
   "metadata": {},
   "source": [
    "\n",
    "\n",
    "Dieser Code verwendet Panel, eine Python-Bibliothek zur Erstellung interaktiver Webanwendungen, um eine einfache Benutzeroberfläche für die Eingabe und Ausgabe anzuzeigen. Hier ist eine Zusammenfassung der einzelnen Komponenten:\n",
    "\n",
    "1. **Text-Eingabefeld**:\n",
    "   ```python\n",
    "   input_widget = pn.widgets.TextInput(name=\"Bitte hier eingeben\", placeholder=\"Aufgabe\", sizing_mode=\"stretch_width\")\n",
    "   ```\n",
    "   - Dies erstellt ein Text-Eingabefeld, in dem Benutzer Text eingeben können. Der Parameter `name` benennt das Widget, während `placeholder` einen Hinweis auf das Eingabefeld gibt (in diesem Fall \"Aufgabe\"). `sizing_mode=\"stretch_width\"` sorgt dafür, dass das Widget sich horizontal an seine Umgebung anpasst.\n",
    "\n",
    "2. **Markdown-Anzeige für Ausgabe**:\n",
    "   ```python\n",
    "   output = pn.pane.Markdown(\"Antwort\")\n",
    "   ```\n",
    "   - Dies erstellt ein Markdown-Panel, um den Ausgabetext anzuzeigen. Anfangs ist es auf \"Antwort\" gesetzt, wird jedoch aktualisiert, wenn sich die Eingabe ändert. Dieses Panel ist der Bereich, in dem die „Antwort“ angezeigt wird, nachdem sie generiert wurde.\n",
    "\n",
    "3. **Funktion zur Verarbeitung der Eingabe**:\n",
    "   ```python\n",
    "   def input_function(event):\n",
    "       answer = input_widget.value\n",
    "       output.object = f\"**Antwort:**\\n\\n{answer}\"\n",
    "   ```\n",
    "   - Diese Funktion holt den Wert aus `input_widget`, wenn die Schaltfläche geklickt wird, und aktualisiert das `output`-Panel mit dem eingegebenen Text und formatiert es als \"**Antwort:** <Antwort_Text>\".\n",
    "\n",
    "4. **Antwort-Schaltfläche**:\n",
    "   ```python\n",
    "   answer_button = pn.widgets.Button(name=\"Antwort\", button_type=\"primary\")\n",
    "   ```\n",
    "   - Diese Schaltfläche, beschriftet mit „Antwort“, löst die `input_function` aus, wenn sie geklickt wird. Sie hat einen `primary` Stil, um visuell hervorzuheben.\n",
    "\n",
    "5. **Schaltflächen-Ereignisbindung**:\n",
    "   ```python\n",
    "   answer_button.on_click(input_function)\n",
    "   ```\n",
    "   - Dies bindet die `input_function` an das Klick-Ereignis der Schaltfläche, sodass die Funktion jedes Mal ausgeführt wird, wenn die Schaltfläche geklickt wird.\n",
    "\n",
    "6. **Anwendungs-Layout**:\n",
    "   - Das Layout ist in zwei Hauptteile organisiert:\n",
    "     - `Tab` (eine `pn.Column`) enthält das Eingabefeld, die Antwort-Schaltfläche, einen Trennstrich und das Ausgabepanel.\n",
    "     - `layout` (eine weitere `pn.Column`) umschließt `Tab` innerhalb einer Tab-Struktur, um mögliche zukünftige Erweiterungen zu ermöglichen.\n",
    "   - `layout.show()` rendert die Anwendung zur Anzeige.\n",
    "\n",
    "Zusammenfassend baut dieser Code eine interaktive Anwendung, in der Benutzer Text eingeben, eine Schaltfläche klicken und den Text formatiert in der Ausgabe sehen können. Diese App könnte als Vorlage für Eingabe-Ausgabe-Anwendungen dienen, die benutzergesteuerte Antworten dynamisch anzeigen sollen.\n",
    "\n"
   ]
  },
  {
   "cell_type": "code",
   "execution_count": 4,
   "id": "f0d138e2-448c-4e65-a90c-79236812b96e",
   "metadata": {},
   "outputs": [
    {
     "name": "stdout",
     "output_type": "stream",
     "text": [
      "Launching server at http://localhost:54488\n"
     ]
    },
    {
     "data": {
      "text/plain": [
       "<panel.io.server.Server at 0x1247d8310>"
      ]
     },
     "execution_count": 4,
     "metadata": {},
     "output_type": "execute_result"
    }
   ],
   "source": [
    "input_widget = pn.widgets.TextInput(name=\"Input here please\", placeholder=\"Task\", sizing_mode=\"stretch_width\")\n",
    "output = pn.pane.Markdown(\"Answer\")  # This will display the answer text\n",
    "\n",
    "# Function to handle input and update the output\n",
    "def input_function(event):\n",
    "    answer=input_widget.value\n",
    "    # Retrieve the answer and update the output pane\n",
    "#    answer = state.get(\"messages\", \"No response received.\")  # Fallback message if \"messages\" is missing\n",
    "    output.object = f\"**Answer:**\\n\\n{answer}\"  # Update output with the answer\n",
    "\n",
    "# Set up the answer button and bind the function\n",
    "answer_button = pn.widgets.Button(name=\"Answer\", button_type=\"primary\")\n",
    "answer_button.on_click(input_function)\n",
    "\n",
    "# Layout with question input, answer button, and output display\n",
    "Tab = pn.Column(\n",
    "    pn.Row(input_widget),\n",
    "    pn.panel(answer_button, loading_indicator=True, height=50),\n",
    "    pn.layout.Divider(),\n",
    "    pn.panel(output, loading_indicator=True, height=900),\n",
    "    sizing_mode=\"stretch_width\"\n",
    ")\n",
    "\n",
    "layout = pn.Column(pn.Tabs(('Answer', Tab)))\n",
    "layout.show()\n"
   ]
  },
  {
   "cell_type": "markdown",
   "id": "36aaf59c-3dfd-4618-93ad-c1772f66de6f",
   "metadata": {},
   "source": [
    "# Version 2\n",
    "\n",
    "input_function wird mit pn.bind(input_function,question) mit dem widget verbunden"
   ]
  },
  {
   "cell_type": "code",
   "execution_count": 5,
   "id": "c13fc8cd-a5ad-42a1-9918-8c72b81f4f2a",
   "metadata": {},
   "outputs": [
    {
     "name": "stdout",
     "output_type": "stream",
     "text": [
      "Launching server at http://localhost:54603\n"
     ]
    },
    {
     "data": {
      "text/plain": [
       "<panel.io.server.Server at 0x1247dbbd0>"
      ]
     },
     "execution_count": 5,
     "metadata": {},
     "output_type": "execute_result"
    },
    {
     "name": "stdout",
     "output_type": "stream",
     "text": [
      "input_function I am just a dumb computer programm and don't know the answer to fdf\n"
     ]
    }
   ],
   "source": [
    "def input_function(question:str):\n",
    "    answer=\"I am just a dumb computer programm and don't know the answer to \"+question\n",
    "    print(\"input_function\",answer)\n",
    "    return answer\n",
    "\n",
    "## Widget für die Eingabe\n",
    "question = pn.widgets.TextInput(name=\"Input here please\", placeholder=\"Task\", sizing_mode=\"stretch_width\")\n",
    "## Panel für die AUsgabe\n",
    "output = pn.pane.Markdown(\"Answer\")\n",
    "\n",
    "## Funktion, welche bei button_click der input_function die Frage, welche in das Widget eingegebn wurde übergibt. \n",
    "## Das Resultat von input_function wird an den output übetragen, weler in der App angezeigt wird \n",
    "def button_click(event):\n",
    "    if answer_button.clicks > 0:\n",
    "        bound_function = pn.bind(input_function, question)\n",
    "        try:\n",
    "            result = bound_function()\n",
    "            output.object = f\"Start answer:\\n {result}\"\n",
    "        except Exception as e:\n",
    "             output.object = f\"Error in start_button_click: {e}\"\n",
    "\n",
    "answer_button = pn.widgets.Button(name=\"Answer\", button_type=\"primary\", width=50, height=50)\n",
    "answer_button.on_click(button_click)\n",
    "\n",
    "Tab = pn.Column(\n",
    "            pn.Row(question),\n",
    "            pn.panel(answer_button, loading_indicator=True, height=50),\n",
    "            pn.layout.Divider(),\n",
    "            pn.panel(output, loading_indicator=True, height=900),\n",
    "            sizing_mode=\"stretch_width\"\n",
    "        )\n",
    "\n",
    "\n",
    "layout = pn.Column(pn.Tabs(('Answer', Tab)))\n",
    "layout.show()"
   ]
  },
  {
   "cell_type": "markdown",
   "id": "d488023d-40c0-46cb-8566-fd43ad26a502",
   "metadata": {},
   "source": [
    "# Exercise: \n",
    "\n",
    "Erzeugen Sie eine input_function mit 2 Eingabewerten, question1,question2. \n",
    "Verwenden Sie 2 widgets, wo diese Werte eingegeben werden können, und verbinden Sie diese widgets mit pn.bind(input_function, question1,question2)\n"
   ]
  },
  {
   "cell_type": "code",
   "execution_count": 6,
   "id": "515b9075-bb0e-44e3-a1bb-69a0f3218f7c",
   "metadata": {},
   "outputs": [
    {
     "ename": "ValueError",
     "evalue": "ObjectSelector parameter 'Layoutable.sizing_mode' does not accept 'stretch_widht'; valid options include: '[fixed, stretch_width, stretch_height, stretch_both, scale_width, scale_height, scale_both, None]'",
     "output_type": "error",
     "traceback": [
      "\u001b[0;31m---------------------------------------------------------------------------\u001b[0m",
      "\u001b[0;31mValueError\u001b[0m                                Traceback (most recent call last)",
      "Cell \u001b[0;32mIn[6], line 1\u001b[0m\n\u001b[0;32m----> 1\u001b[0m q1 \u001b[38;5;241m=\u001b[39m \u001b[43mpn\u001b[49m\u001b[38;5;241;43m.\u001b[39;49m\u001b[43mwidgets\u001b[49m\u001b[38;5;241;43m.\u001b[39;49m\u001b[43mTextInput\u001b[49m\u001b[43m(\u001b[49m\u001b[43mname\u001b[49m\u001b[38;5;241;43m=\u001b[39;49m\u001b[38;5;124;43m\"\u001b[39;49m\u001b[38;5;124;43mInput your first question\u001b[39;49m\u001b[38;5;124;43m\"\u001b[39;49m\u001b[43m,\u001b[49m\u001b[43m \u001b[49m\u001b[43mplaceholder\u001b[49m\u001b[38;5;241;43m=\u001b[39;49m\u001b[38;5;124;43m\"\u001b[39;49m\u001b[38;5;124;43mTask\u001b[39;49m\u001b[38;5;124;43m\"\u001b[39;49m\u001b[43m,\u001b[49m\u001b[43m \u001b[49m\u001b[43msizing_mode\u001b[49m\u001b[38;5;241;43m=\u001b[39;49m\u001b[38;5;124;43m\"\u001b[39;49m\u001b[38;5;124;43mstretch_widht\u001b[39;49m\u001b[38;5;124;43m\"\u001b[39;49m\u001b[43m)\u001b[49m\n\u001b[1;32m      2\u001b[0m q2 \u001b[38;5;241m=\u001b[39m pn\u001b[38;5;241m.\u001b[39mwidgets\u001b[38;5;241m.\u001b[39mTextInput(name\u001b[38;5;241m=\u001b[39m\u001b[38;5;124m\"\u001b[39m\u001b[38;5;124mInput your second question\u001b[39m\u001b[38;5;124m\"\u001b[39m, placeholder\u001b[38;5;241m=\u001b[39m\u001b[38;5;124m\"\u001b[39m\u001b[38;5;124mTask\u001b[39m\u001b[38;5;124m\"\u001b[39m, sizing_mode\u001b[38;5;241m=\u001b[39m\u001b[38;5;124m\"\u001b[39m\u001b[38;5;124mstretch_widht\u001b[39m\u001b[38;5;124m\"\u001b[39m)\n",
      "File \u001b[0;32m/Library/Frameworks/Python.framework/Versions/3.11/lib/python3.11/site-packages/panel/widgets/base.py:74\u001b[0m, in \u001b[0;36mWidget.__init__\u001b[0;34m(self, **params)\u001b[0m\n\u001b[1;32m     72\u001b[0m \u001b[38;5;28;01melse\u001b[39;00m:\n\u001b[1;32m     73\u001b[0m     \u001b[38;5;28mself\u001b[39m\u001b[38;5;241m.\u001b[39m_param_pane \u001b[38;5;241m=\u001b[39m \u001b[38;5;28;01mNone\u001b[39;00m\n\u001b[0;32m---> 74\u001b[0m \u001b[38;5;28;43msuper\u001b[39;49m\u001b[43m(\u001b[49m\u001b[43m)\u001b[49m\u001b[38;5;241;43m.\u001b[39;49m\u001b[38;5;21;43m__init__\u001b[39;49m\u001b[43m(\u001b[49m\u001b[38;5;241;43m*\u001b[39;49m\u001b[38;5;241;43m*\u001b[39;49m\u001b[43mparams\u001b[49m\u001b[43m)\u001b[49m\n",
      "File \u001b[0;32m/Library/Frameworks/Python.framework/Versions/3.11/lib/python3.11/site-packages/panel/reactive.py:563\u001b[0m, in \u001b[0;36mReactive.__init__\u001b[0;34m(self, refs, **params)\u001b[0m\n\u001b[1;32m    561\u001b[0m     \u001b[38;5;28;01mif\u001b[39;00m refs:\n\u001b[1;32m    562\u001b[0m         param\u001b[38;5;241m.\u001b[39mbind(\u001b[38;5;28mself\u001b[39m\u001b[38;5;241m.\u001b[39m_sync_refs, \u001b[38;5;241m*\u001b[39mrefs, watch\u001b[38;5;241m=\u001b[39m\u001b[38;5;28;01mTrue\u001b[39;00m)\n\u001b[0;32m--> 563\u001b[0m \u001b[38;5;28;43msuper\u001b[39;49m\u001b[43m(\u001b[49m\u001b[43m)\u001b[49m\u001b[38;5;241;43m.\u001b[39;49m\u001b[38;5;21;43m__init__\u001b[39;49m\u001b[43m(\u001b[49m\u001b[38;5;241;43m*\u001b[39;49m\u001b[38;5;241;43m*\u001b[39;49m\u001b[43mparams\u001b[49m\u001b[43m)\u001b[49m\n",
      "File \u001b[0;32m/Library/Frameworks/Python.framework/Versions/3.11/lib/python3.11/site-packages/panel/reactive.py:119\u001b[0m, in \u001b[0;36mSyncable.__init__\u001b[0;34m(self, **params)\u001b[0m\n\u001b[1;32m    117\u001b[0m \u001b[38;5;28;01mdef\u001b[39;00m \u001b[38;5;21m__init__\u001b[39m(\u001b[38;5;28mself\u001b[39m, \u001b[38;5;241m*\u001b[39m\u001b[38;5;241m*\u001b[39mparams):\n\u001b[1;32m    118\u001b[0m     \u001b[38;5;28mself\u001b[39m\u001b[38;5;241m.\u001b[39m_themer \u001b[38;5;241m=\u001b[39m \u001b[38;5;28;01mNone\u001b[39;00m\n\u001b[0;32m--> 119\u001b[0m     \u001b[38;5;28;43msuper\u001b[39;49m\u001b[43m(\u001b[49m\u001b[43m)\u001b[49m\u001b[38;5;241;43m.\u001b[39;49m\u001b[38;5;21;43m__init__\u001b[39;49m\u001b[43m(\u001b[49m\u001b[38;5;241;43m*\u001b[39;49m\u001b[38;5;241;43m*\u001b[39;49m\u001b[43mparams\u001b[49m\u001b[43m)\u001b[49m\n\u001b[1;32m    121\u001b[0m     \u001b[38;5;66;03m# Useful when updating model properties which trigger potentially\u001b[39;00m\n\u001b[1;32m    122\u001b[0m     \u001b[38;5;66;03m# recursive events\u001b[39;00m\n\u001b[1;32m    123\u001b[0m     \u001b[38;5;28mself\u001b[39m\u001b[38;5;241m.\u001b[39m_updating \u001b[38;5;241m=\u001b[39m \u001b[38;5;28;01mFalse\u001b[39;00m\n",
      "File \u001b[0;32m/Library/Frameworks/Python.framework/Versions/3.11/lib/python3.11/site-packages/panel/viewable.py:701\u001b[0m, in \u001b[0;36mViewable.__init__\u001b[0;34m(self, **params)\u001b[0m\n\u001b[1;32m    699\u001b[0m \u001b[38;5;28;01mdef\u001b[39;00m \u001b[38;5;21m__init__\u001b[39m(\u001b[38;5;28mself\u001b[39m, \u001b[38;5;241m*\u001b[39m\u001b[38;5;241m*\u001b[39mparams):\n\u001b[1;32m    700\u001b[0m     hooks \u001b[38;5;241m=\u001b[39m params\u001b[38;5;241m.\u001b[39mpop(\u001b[38;5;124m'\u001b[39m\u001b[38;5;124mhooks\u001b[39m\u001b[38;5;124m'\u001b[39m, [])\n\u001b[0;32m--> 701\u001b[0m     \u001b[38;5;28;43msuper\u001b[39;49m\u001b[43m(\u001b[49m\u001b[43m)\u001b[49m\u001b[38;5;241;43m.\u001b[39;49m\u001b[38;5;21;43m__init__\u001b[39;49m\u001b[43m(\u001b[49m\u001b[38;5;241;43m*\u001b[39;49m\u001b[38;5;241;43m*\u001b[39;49m\u001b[43mparams\u001b[49m\u001b[43m)\u001b[49m\n\u001b[1;32m    702\u001b[0m     \u001b[38;5;28mself\u001b[39m\u001b[38;5;241m.\u001b[39m_hooks \u001b[38;5;241m=\u001b[39m hooks\n\u001b[1;32m    704\u001b[0m     \u001b[38;5;28;01mif\u001b[39;00m \u001b[38;5;28mself\u001b[39m\u001b[38;5;241m.\u001b[39mloading:\n",
      "File \u001b[0;32m/Library/Frameworks/Python.framework/Versions/3.11/lib/python3.11/site-packages/panel/viewable.py:540\u001b[0m, in \u001b[0;36mRenderable.__init__\u001b[0;34m(self, **params)\u001b[0m\n\u001b[1;32m    538\u001b[0m \u001b[38;5;28mself\u001b[39m\u001b[38;5;241m.\u001b[39m_comms \u001b[38;5;241m=\u001b[39m {}\n\u001b[1;32m    539\u001b[0m \u001b[38;5;28mself\u001b[39m\u001b[38;5;241m.\u001b[39m_kernels \u001b[38;5;241m=\u001b[39m {}\n\u001b[0;32m--> 540\u001b[0m \u001b[38;5;28;43msuper\u001b[39;49m\u001b[43m(\u001b[49m\u001b[43m)\u001b[49m\u001b[38;5;241;43m.\u001b[39;49m\u001b[38;5;21;43m__init__\u001b[39;49m\u001b[43m(\u001b[49m\u001b[38;5;241;43m*\u001b[39;49m\u001b[38;5;241;43m*\u001b[39;49m\u001b[43mparams\u001b[49m\u001b[43m)\u001b[49m\n\u001b[1;32m    541\u001b[0m \u001b[38;5;28mself\u001b[39m\u001b[38;5;241m.\u001b[39m_found_links \u001b[38;5;241m=\u001b[39m \u001b[38;5;28mset\u001b[39m()\n\u001b[1;32m    542\u001b[0m \u001b[38;5;28mself\u001b[39m\u001b[38;5;241m.\u001b[39m_logger \u001b[38;5;241m=\u001b[39m logging\u001b[38;5;241m.\u001b[39mgetLogger(\u001b[38;5;124mf\u001b[39m\u001b[38;5;124m'\u001b[39m\u001b[38;5;132;01m{\u001b[39;00m\u001b[38;5;18m__name__\u001b[39m\u001b[38;5;132;01m}\u001b[39;00m\u001b[38;5;124m.\u001b[39m\u001b[38;5;132;01m{\u001b[39;00m\u001b[38;5;28mtype\u001b[39m(\u001b[38;5;28mself\u001b[39m)\u001b[38;5;241m.\u001b[39m\u001b[38;5;18m__name__\u001b[39m\u001b[38;5;132;01m}\u001b[39;00m\u001b[38;5;124m'\u001b[39m)\n",
      "File \u001b[0;32m/Library/Frameworks/Python.framework/Versions/3.11/lib/python3.11/site-packages/panel/viewable.py:299\u001b[0m, in \u001b[0;36mLayoutable.__init__\u001b[0;34m(self, **params)\u001b[0m\n\u001b[1;32m    297\u001b[0m \u001b[38;5;28;01mif\u001b[39;00m \u001b[38;5;124m'\u001b[39m\u001b[38;5;124mdesign\u001b[39m\u001b[38;5;124m'\u001b[39m \u001b[38;5;129;01mnot\u001b[39;00m \u001b[38;5;129;01min\u001b[39;00m params \u001b[38;5;129;01mand\u001b[39;00m \u001b[38;5;28mself\u001b[39m\u001b[38;5;241m.\u001b[39mparam\u001b[38;5;241m.\u001b[39mdesign\u001b[38;5;241m.\u001b[39mdefault \u001b[38;5;129;01mis\u001b[39;00m \u001b[38;5;28;01mNone\u001b[39;00m:\n\u001b[1;32m    298\u001b[0m     params[\u001b[38;5;124m'\u001b[39m\u001b[38;5;124mdesign\u001b[39m\u001b[38;5;124m'\u001b[39m] \u001b[38;5;241m=\u001b[39m config\u001b[38;5;241m.\u001b[39mdesign\n\u001b[0;32m--> 299\u001b[0m \u001b[38;5;28;43msuper\u001b[39;49m\u001b[43m(\u001b[49m\u001b[43m)\u001b[49m\u001b[38;5;241;43m.\u001b[39;49m\u001b[38;5;21;43m__init__\u001b[39;49m\u001b[43m(\u001b[49m\u001b[38;5;241;43m*\u001b[39;49m\u001b[38;5;241;43m*\u001b[39;49m\u001b[43mparams\u001b[49m\u001b[43m)\u001b[49m\n",
      "File \u001b[0;32m/Library/Frameworks/Python.framework/Versions/3.11/lib/python3.11/site-packages/param/parameterized.py:4188\u001b[0m, in \u001b[0;36mParameterized.__init__\u001b[0;34m(self, **params)\u001b[0m\n\u001b[1;32m   4186\u001b[0m \u001b[38;5;28;01mif\u001b[39;00m \u001b[38;5;28mself\u001b[39m\u001b[38;5;241m.\u001b[39mparam\u001b[38;5;241m.\u001b[39mname\u001b[38;5;241m.\u001b[39mdefault \u001b[38;5;241m==\u001b[39m \u001b[38;5;28mself\u001b[39m\u001b[38;5;241m.\u001b[39m\u001b[38;5;18m__class__\u001b[39m\u001b[38;5;241m.\u001b[39m\u001b[38;5;18m__name__\u001b[39m:\n\u001b[1;32m   4187\u001b[0m     \u001b[38;5;28mself\u001b[39m\u001b[38;5;241m.\u001b[39mparam\u001b[38;5;241m.\u001b[39m_generate_name()\n\u001b[0;32m-> 4188\u001b[0m refs, deps \u001b[38;5;241m=\u001b[39m \u001b[38;5;28;43mself\u001b[39;49m\u001b[38;5;241;43m.\u001b[39;49m\u001b[43mparam\u001b[49m\u001b[38;5;241;43m.\u001b[39;49m\u001b[43m_setup_params\u001b[49m\u001b[43m(\u001b[49m\u001b[38;5;241;43m*\u001b[39;49m\u001b[38;5;241;43m*\u001b[39;49m\u001b[43mparams\u001b[49m\u001b[43m)\u001b[49m\n\u001b[1;32m   4189\u001b[0m object_count \u001b[38;5;241m+\u001b[39m\u001b[38;5;241m=\u001b[39m \u001b[38;5;241m1\u001b[39m\n\u001b[1;32m   4191\u001b[0m \u001b[38;5;28mself\u001b[39m\u001b[38;5;241m.\u001b[39m_param__private\u001b[38;5;241m.\u001b[39minitialized \u001b[38;5;241m=\u001b[39m \u001b[38;5;28;01mTrue\u001b[39;00m\n",
      "File \u001b[0;32m/Library/Frameworks/Python.framework/Versions/3.11/lib/python3.11/site-packages/param/parameterized.py:1686\u001b[0m, in \u001b[0;36mas_uninitialized.<locals>.override_initialization\u001b[0;34m(self_, *args, **kw)\u001b[0m\n\u001b[1;32m   1684\u001b[0m original_initialized \u001b[38;5;241m=\u001b[39m parameterized_instance\u001b[38;5;241m.\u001b[39m_param__private\u001b[38;5;241m.\u001b[39minitialized\n\u001b[1;32m   1685\u001b[0m parameterized_instance\u001b[38;5;241m.\u001b[39m_param__private\u001b[38;5;241m.\u001b[39minitialized \u001b[38;5;241m=\u001b[39m \u001b[38;5;28;01mFalse\u001b[39;00m\n\u001b[0;32m-> 1686\u001b[0m ret \u001b[38;5;241m=\u001b[39m \u001b[43mfn\u001b[49m\u001b[43m(\u001b[49m\u001b[43mself_\u001b[49m\u001b[43m,\u001b[49m\u001b[43m \u001b[49m\u001b[38;5;241;43m*\u001b[39;49m\u001b[43margs\u001b[49m\u001b[43m,\u001b[49m\u001b[43m \u001b[49m\u001b[38;5;241;43m*\u001b[39;49m\u001b[38;5;241;43m*\u001b[39;49m\u001b[43mkw\u001b[49m\u001b[43m)\u001b[49m\n\u001b[1;32m   1687\u001b[0m parameterized_instance\u001b[38;5;241m.\u001b[39m_param__private\u001b[38;5;241m.\u001b[39minitialized \u001b[38;5;241m=\u001b[39m original_initialized\n\u001b[1;32m   1688\u001b[0m \u001b[38;5;28;01mreturn\u001b[39;00m ret\n",
      "File \u001b[0;32m/Library/Frameworks/Python.framework/Versions/3.11/lib/python3.11/site-packages/param/parameterized.py:1976\u001b[0m, in \u001b[0;36mParameters._setup_params\u001b[0;34m(self_, **params)\u001b[0m\n\u001b[1;32m   1974\u001b[0m         deps[name] \u001b[38;5;241m=\u001b[39m ref_deps\n\u001b[1;32m   1975\u001b[0m     \u001b[38;5;28;01mif\u001b[39;00m \u001b[38;5;129;01mnot\u001b[39;00m is_async \u001b[38;5;129;01mand\u001b[39;00m \u001b[38;5;129;01mnot\u001b[39;00m (resolved \u001b[38;5;129;01mis\u001b[39;00m Undefined \u001b[38;5;129;01mor\u001b[39;00m resolved \u001b[38;5;129;01mis\u001b[39;00m Skip):\n\u001b[0;32m-> 1976\u001b[0m         \u001b[38;5;28msetattr\u001b[39m(\u001b[38;5;28mself\u001b[39m, name, resolved)\n\u001b[1;32m   1977\u001b[0m \u001b[38;5;28;01mreturn\u001b[39;00m refs, deps\n",
      "File \u001b[0;32m/Library/Frameworks/Python.framework/Versions/3.11/lib/python3.11/site-packages/param/parameterized.py:530\u001b[0m, in \u001b[0;36minstance_descriptor.<locals>._f\u001b[0;34m(self, obj, val)\u001b[0m\n\u001b[1;32m    528\u001b[0m         instance_param\u001b[38;5;241m.\u001b[39m\u001b[38;5;21m__set__\u001b[39m(obj, val)\n\u001b[1;32m    529\u001b[0m         \u001b[38;5;28;01mreturn\u001b[39;00m\n\u001b[0;32m--> 530\u001b[0m \u001b[38;5;28;01mreturn\u001b[39;00m \u001b[43mf\u001b[49m\u001b[43m(\u001b[49m\u001b[38;5;28;43mself\u001b[39;49m\u001b[43m,\u001b[49m\u001b[43m \u001b[49m\u001b[43mobj\u001b[49m\u001b[43m,\u001b[49m\u001b[43m \u001b[49m\u001b[43mval\u001b[49m\u001b[43m)\u001b[49m\n",
      "File \u001b[0;32m/Library/Frameworks/Python.framework/Versions/3.11/lib/python3.11/site-packages/param/parameterized.py:1498\u001b[0m, in \u001b[0;36mParameter.__set__\u001b[0;34m(self, obj, val)\u001b[0m\n\u001b[1;32m   1490\u001b[0m     \u001b[38;5;28;01mif\u001b[39;00m \u001b[38;5;28mself\u001b[39m\u001b[38;5;241m.\u001b[39mset_hook \u001b[38;5;129;01mis\u001b[39;00m \u001b[38;5;129;01mnot\u001b[39;00m _identity_hook:\n\u001b[1;32m   1491\u001b[0m         \u001b[38;5;66;03m# PARAM3_DEPRECATION\u001b[39;00m\n\u001b[1;32m   1492\u001b[0m         warnings\u001b[38;5;241m.\u001b[39mwarn(\n\u001b[1;32m   1493\u001b[0m             \u001b[38;5;124m'\u001b[39m\u001b[38;5;124mNumber.set_hook has been deprecated.\u001b[39m\u001b[38;5;124m'\u001b[39m,\n\u001b[1;32m   1494\u001b[0m             category\u001b[38;5;241m=\u001b[39m_ParamDeprecationWarning,\n\u001b[1;32m   1495\u001b[0m             stacklevel\u001b[38;5;241m=\u001b[39m\u001b[38;5;241m6\u001b[39m,\n\u001b[1;32m   1496\u001b[0m         )\n\u001b[0;32m-> 1498\u001b[0m \u001b[38;5;28;43mself\u001b[39;49m\u001b[38;5;241;43m.\u001b[39;49m\u001b[43m_validate\u001b[49m\u001b[43m(\u001b[49m\u001b[43mval\u001b[49m\u001b[43m)\u001b[49m\n\u001b[1;32m   1500\u001b[0m _old \u001b[38;5;241m=\u001b[39m \u001b[38;5;28mNotImplemented\u001b[39m\n\u001b[1;32m   1501\u001b[0m \u001b[38;5;66;03m# obj can be None if __set__ is called for a Parameterized class\u001b[39;00m\n",
      "File \u001b[0;32m/Library/Frameworks/Python.framework/Versions/3.11/lib/python3.11/site-packages/param/parameters.py:1933\u001b[0m, in \u001b[0;36mSelector._validate\u001b[0;34m(self, val)\u001b[0m\n\u001b[1;32m   1930\u001b[0m     \u001b[38;5;28mself\u001b[39m\u001b[38;5;241m.\u001b[39m_ensure_value_is_in_objects(val)\n\u001b[1;32m   1931\u001b[0m     \u001b[38;5;28;01mreturn\u001b[39;00m\n\u001b[0;32m-> 1933\u001b[0m \u001b[38;5;28;43mself\u001b[39;49m\u001b[38;5;241;43m.\u001b[39;49m\u001b[43m_validate_value\u001b[49m\u001b[43m(\u001b[49m\u001b[43mval\u001b[49m\u001b[43m)\u001b[49m\n",
      "File \u001b[0;32m/Library/Frameworks/Python.framework/Versions/3.11/lib/python3.11/site-packages/param/parameters.py:1949\u001b[0m, in \u001b[0;36mSelector._validate_value\u001b[0;34m(self, val)\u001b[0m\n\u001b[1;32m   1947\u001b[0m         \u001b[38;5;28;01mbreak\u001b[39;00m\n\u001b[1;32m   1948\u001b[0m items \u001b[38;5;241m=\u001b[39m \u001b[38;5;124m'\u001b[39m\u001b[38;5;124m[\u001b[39m\u001b[38;5;124m'\u001b[39m \u001b[38;5;241m+\u001b[39m \u001b[38;5;124m'\u001b[39m\u001b[38;5;124m, \u001b[39m\u001b[38;5;124m'\u001b[39m\u001b[38;5;241m.\u001b[39mjoin(items) \u001b[38;5;241m+\u001b[39m limiter\n\u001b[0;32m-> 1949\u001b[0m \u001b[38;5;28;01mraise\u001b[39;00m \u001b[38;5;167;01mValueError\u001b[39;00m(\n\u001b[1;32m   1950\u001b[0m     \u001b[38;5;124mf\u001b[39m\u001b[38;5;124m\"\u001b[39m\u001b[38;5;132;01m{\u001b[39;00m_validate_error_prefix(\u001b[38;5;28mself\u001b[39m)\u001b[38;5;132;01m}\u001b[39;00m\u001b[38;5;124m does not accept \u001b[39m\u001b[38;5;132;01m{\u001b[39;00mval\u001b[38;5;132;01m!r}\u001b[39;00m\u001b[38;5;124m; \u001b[39m\u001b[38;5;124m\"\u001b[39m\n\u001b[1;32m   1951\u001b[0m     \u001b[38;5;124mf\u001b[39m\u001b[38;5;124m\"\u001b[39m\u001b[38;5;124mvalid options include: \u001b[39m\u001b[38;5;132;01m{\u001b[39;00mitems\u001b[38;5;132;01m!r}\u001b[39;00m\u001b[38;5;124m\"\u001b[39m\n\u001b[1;32m   1952\u001b[0m )\n",
      "\u001b[0;31mValueError\u001b[0m: ObjectSelector parameter 'Layoutable.sizing_mode' does not accept 'stretch_widht'; valid options include: '[fixed, stretch_width, stretch_height, stretch_both, scale_width, scale_height, scale_both, None]'"
     ]
    }
   ],
   "source": [
    "q1 = pn.widgets.TextInput(name=\"Input your first question\", placeholder=\"Task\", sizing_mode=\"stretch_width\")\n",
    "q2 = pn.widgets.TextInput(name=\"Input your second question\", placeholder=\"Task\", sizing_mode=\"stretch_width\")\n",
    "\n",
    "output = pn.pane.Markdown(\"Answer\")\n",
    "\n",
    "answr_btn = pn.widgets.Button(name=\"Answer\", button_type=\"primary\", width=50, height=50)\n",
    "answr_btn.on_click(btn_click)\n",
    "\n",
    "def default(question:str):\n",
    "    answer=\"Your question is: \"+question\n",
    "    print(\"input_function\",answer)\n",
    "    return answer \n",
    "\n",
    "\n",
    "def btn_click(event):\n",
    "    if answer_button.clicks > 0:\n",
    "        bound_q1 = pn.bind(default, q1)\n",
    "        bound_q1 = pn.bind(default, q2)\n",
    "        answer1 = bound_function()\n",
    "    else:\n",
    "        answer = \"Error 404\"\n",
    "    \n",
    "    output.object = answer\n",
    "        \n",
    "        \n",
    "Tab = pn.Column(\n",
    "            pn.Row(q1),\n",
    "            pn.Row(q2),\n",
    "            pn.panel(answer_button, loading_indicator=True, height=50),\n",
    "            pn.layout.Divider(),\n",
    "            pn.panel(output, loading_indicator=True, height=900),\n",
    "            sizing_mode=\"stretch_width\"\n",
    "        )\n",
    "\n",
    "\n",
    "layout = pn.Column(pn.Tabs(('Answer', Tab)))\n",
    "layout.show()"
   ]
  },
  {
   "cell_type": "code",
   "execution_count": null,
   "id": "afa92d74",
   "metadata": {},
   "outputs": [],
   "source": []
  }
 ],
 "metadata": {
  "kernelspec": {
   "display_name": "Python 3 (ipykernel)",
   "language": "python",
   "name": "python3"
  },
  "language_info": {
   "codemirror_mode": {
    "name": "ipython",
    "version": 3
   },
   "file_extension": ".py",
   "mimetype": "text/x-python",
   "name": "python",
   "nbconvert_exporter": "python",
   "pygments_lexer": "ipython3",
   "version": "3.11.2"
  }
 },
 "nbformat": 4,
 "nbformat_minor": 5
}
