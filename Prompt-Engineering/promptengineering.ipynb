{
 "cells": [
  {
   "cell_type": "markdown",
   "id": "4aaa234b-b6eb-4bd1-a621-16a2a9c2f5cb",
   "metadata": {},
   "source": [
    "# Introduction\n",
    "\n",
    "Prompt-Vorlagen sind vordefinierte „Rezepte“ zur Erstellung von Eingabeaufforderungen für Sprachmodelle.\n",
    "\n",
    "Eine Vorlage kann Anweisungen, Few-Shot-Beispiele sowie spezifischen Kontext und passende Fragen für eine gegebene Aufgabe enthalten.\n",
    "\n",
    "LangChain stellt Tools zur Verfügung, um Prompt-Vorlagen zu erstellen und zu bearbeiten.\n",
    "\n",
    "LangChain strebt die Entwicklung modellunabhängiger Vorlagen an, damit bestehende Vorlagen einfach über verschiedene Sprachmodelle hinweg wiederverwendet werden können.\n",
    "\n",
    "Typischerweise erwarten Sprachmodelle, dass die Eingabeaufforderung entweder ein String oder eine Liste von Chat-Nachrichten ist."
   ]
  },
  {
   "cell_type": "markdown",
   "id": "41060aeb-6adf-4c59-a8ad-092e308d1b98",
   "metadata": {},
   "source": [
    "# PromptTemplates\n",
    "\n",
    "https://python.langchain.com/docs/how_to/installation/\n",
    "\n",
    "https://www.mirascope.com/post/langchain-prompt-template\n",
    "\n",
    "https://www.mirascope.com/post/prompt-engineering-tools\n",
    "\n",
    "https://python.langchain.com/docs/how_to/#prompt-templates\n",
    "\n",
    "Eine LangChain-Prompt-Vorlage ist eine Klasse, die Elemente enthält, die typischerweise für eine Eingabeaufforderung für ein Large Language Model (LLM) benötigt werden. Diese beinhalten mindestens:\n",
    "\n",
    "- **Einen natürlichen Sprachstring**, der als Prompt dient: Dies kann ein einfacher Textstring sein oder, bei Prompts mit dynamischem Inhalt, ein f-String oder Docstring, der Platzhalter für Variablen enthält.\n",
    "\n",
    "- **Formatierungsanweisungen** (optional), die festlegen, wie der dynamische Inhalt im Prompt erscheinen soll, z. B., ob er kursiv, großgeschrieben usw. sein sollte.\n",
    "\n",
    "- **Eingabeparameter** (optional), die in die Prompt-Klasse eingefügt werden, um Anweisungen oder Kontext zur Erstellung der Prompts zu geben. Diese Parameter beeinflussen den Inhalt, die Struktur oder die Formatierung des Prompts. Oft dienen sie jedoch als Variablen für die Platzhalter im String, deren Werte den finalen Text erzeugen, der über einen API-Aufruf als Prompt in das LLM eingespeist wird."
   ]
  },
  {
   "cell_type": "code",
   "execution_count": 1,
   "id": "20f08909-c137-446b-9629-9f77ea0c7aa3",
   "metadata": {
    "scrolled": true
   },
   "outputs": [],
   "source": [
    "%run utilities.ipynb\n",
    "llm_model = ChatOpenAI(model=\"gpt-3.5-turbo\", temperature=0) \n"
   ]
  },
  {
   "cell_type": "code",
   "execution_count": 2,
   "id": "c4704f34-6e28-49cf-94b8-fe626a8debd7",
   "metadata": {},
   "outputs": [
    {
     "data": {
      "text/plain": [
       "AIMessage(content=\"I'm sorry, I am not able to provide real-time information such as current temperatures. I recommend checking a reliable weather website or app for the most up-to-date information on the temperature in Zurich today.\", additional_kwargs={'refusal': None}, response_metadata={'token_usage': {'completion_tokens': 41, 'prompt_tokens': 15, 'total_tokens': 56, 'completion_tokens_details': {'audio_tokens': None, 'reasoning_tokens': 0}, 'prompt_tokens_details': {'audio_tokens': None, 'cached_tokens': 0}}, 'model_name': 'gpt-3.5-turbo-0125', 'system_fingerprint': None, 'finish_reason': 'stop', 'logprobs': None}, id='run-02f6fa4f-0e57-4476-92d5-b6d365b21a14-0', usage_metadata={'input_tokens': 15, 'output_tokens': 41, 'total_tokens': 56, 'input_token_details': {'cache_read': 0}, 'output_token_details': {'reasoning': 0}})"
      ]
     },
     "execution_count": 2,
     "metadata": {},
     "output_type": "execute_result"
    }
   ],
   "source": [
    "llm_model.invoke(\"what is the temperature in Zurich today?\")"
   ]
  },
  {
   "cell_type": "markdown",
   "id": "32c44b59-0dab-4d1c-ba53-5447254e4174",
   "metadata": {},
   "source": [
    "# `PromptTemplate` for creating basic prompts.\n",
    "\n",
    "Dieser Code erstellt ein **Prompt-Template** für ein Rezept mit `PromptTemplate` aus LangChain:\n",
    "\n",
    "1. **Template-Erstellung**: Das Template wird so definiert, dass es Variablen für eine dynamische Aufforderung für ein Rezept erstellt, z. B. „Schreibe ein leckeres Rezept für {dish} mit einer {flavor}-Note.“\n",
    "2. **Formatierung**: Das Template wird mit spezifischen Werten gefüllt (`dish=\"pasta\"`, `flavor=\"spicy\"`), um die Aufforderung zu personalisieren.\n",
    "3. **Ausgabe**: Die formatierte Aufforderung wird ausgegeben.\n",
    "\n",
    "Ergebnis: „Write a delicious recipe for pasta with a spicy twist.“"
   ]
  },
  {
   "cell_type": "code",
   "execution_count": 3,
   "id": "b8ea7c0a-1bb8-4e1e-9be3-d01bd257d379",
   "metadata": {},
   "outputs": [
    {
     "name": "stdout",
     "output_type": "stream",
     "text": [
      "Write a delicious recipe for pasta with a spicy twist.\n"
     ]
    }
   ],
   "source": [
    "from langchain.prompts import PromptTemplate\n",
    "\n",
    "prompt_template = PromptTemplate.from_template(\n",
    "  \"Write a delicious recipe for {dish} with a {flavor} twist.\"\n",
    ")\n",
    "\n",
    "# Formatting the prompt with new content\n",
    "prompt = prompt_template.format(dish=\"pasta\", flavor=\"spicy\")\n",
    "\n",
    "print(prompt)"
   ]
  },
  {
   "cell_type": "code",
   "execution_count": 4,
   "id": "e3185a76-cad7-4e35-8245-8af32a1f454d",
   "metadata": {},
   "outputs": [],
   "source": [
    "# Use it with an LLM\n",
    "\n",
    "answer=llm_model.invoke(prompt)"
   ]
  },
  {
   "cell_type": "code",
   "execution_count": 5,
   "id": "ee0b91b7-41c5-4727-8846-a8785b942956",
   "metadata": {
    "scrolled": true
   },
   "outputs": [
    {
     "name": "stdout",
     "output_type": "stream",
     "text": [
      "content='Spicy Arrabbiata Pasta\\n\\nIngredients:\\n- 1 pound of penne pasta\\n- 2 tablespoons of olive oil\\n- 1 small onion, diced\\n- 3 cloves of garlic, minced\\n- 1 teaspoon of red pepper flakes\\n- 1 can of crushed tomatoes\\n- 1 teaspoon of sugar\\n- Salt and pepper to taste\\n- Fresh basil, chopped\\n- Grated Parmesan cheese for serving\\n\\nInstructions:\\n1. Cook the penne pasta according to package instructions until al dente. Drain and set aside.\\n2. In a large skillet, heat the olive oil over medium heat. Add the diced onion and cook until translucent, about 5 minutes.\\n3. Add the minced garlic and red pepper flakes to the skillet and cook for another minute, until fragrant.\\n4. Pour in the crushed tomatoes and sugar, stirring to combine. Season with salt and pepper to taste.\\n5. Simmer the sauce for about 15 minutes, allowing the flavors to meld together.\\n6. Add the cooked penne pasta to the skillet and toss to coat in the spicy arrabbiata sauce.\\n7. Serve the pasta hot, garnished with fresh basil and grated Parmesan cheese.\\n8. Enjoy your delicious and spicy twist on classic pasta!' additional_kwargs={'refusal': None} response_metadata={'token_usage': {'completion_tokens': 260, 'prompt_tokens': 18, 'total_tokens': 278, 'completion_tokens_details': {'audio_tokens': None, 'reasoning_tokens': 0}, 'prompt_tokens_details': {'audio_tokens': None, 'cached_tokens': 0}}, 'model_name': 'gpt-3.5-turbo-0125', 'system_fingerprint': None, 'finish_reason': 'stop', 'logprobs': None} id='run-f4a0d664-43ed-4ed2-8d6b-6bc2a1aa2261-0' usage_metadata={'input_tokens': 18, 'output_tokens': 260, 'total_tokens': 278, 'input_token_details': {'cache_read': 0}, 'output_token_details': {'reasoning': 0}}\n"
     ]
    }
   ],
   "source": [
    "print(answer)\n",
    "#print(answer.response_metadata)"
   ]
  },
  {
   "cell_type": "code",
   "execution_count": 6,
   "id": "472b2789-3bff-420a-901f-4f1531055d77",
   "metadata": {
    "scrolled": true
   },
   "outputs": [
    {
     "name": "stdout",
     "output_type": "stream",
     "text": [
      "Spicy Arrabbiata Pasta\n",
      "\n",
      "Ingredients:\n",
      "- 1 pound of penne pasta\n",
      "- 2 tablespoons of olive oil\n",
      "- 1 small onion, diced\n",
      "- 3 cloves of garlic, minced\n",
      "- 1 teaspoon of red pepper flakes\n",
      "- 1 can of crushed tomatoes\n",
      "- 1 teaspoon of sugar\n",
      "- Salt and pepper to taste\n",
      "- Fresh basil, chopped\n",
      "- Grated Parmesan cheese for serving\n",
      "\n",
      "Instructions:\n",
      "1. Cook the penne pasta according to package instructions until al dente. Drain and set aside.\n",
      "2. In a large skillet, heat the olive oil over medium heat. Add the diced onion and cook until translucent, about 5 minutes.\n",
      "3. Add the minced garlic and red pepper flakes to the skillet and cook for another minute, until fragrant.\n",
      "4. Pour in the crushed tomatoes and sugar, stirring to combine. Season with salt and pepper to taste.\n",
      "5. Simmer the sauce for about 15 minutes, allowing the flavors to meld together.\n",
      "6. Add the cooked penne pasta to the skillet and toss to coat in the spicy arrabbiata sauce.\n",
      "7. Serve the pasta hot, garnished with fresh basil and grated Parmesan cheese.\n",
      "8. Enjoy your delicious and spicy twist on classic pasta!\n"
     ]
    }
   ],
   "source": [
    "print(answer.content)\n"
   ]
  },
  {
   "cell_type": "markdown",
   "id": "6ff99b7e-8a19-48cb-9d7b-2e32ce79da3a",
   "metadata": {},
   "source": [
    "# Exercise \n",
    "\n",
    "Create your own template. Use dynamic variables. Execute it with an LLM"
   ]
  },
  {
   "cell_type": "code",
   "execution_count": 10,
   "id": "077d7288",
   "metadata": {},
   "outputs": [
    {
     "name": "stdout",
     "output_type": "stream",
     "text": [
      "Write a simple function in python that can add two numbers\n"
     ]
    }
   ],
   "source": [
    "from langchain.prompts import PromptTemplate\n",
    "\n",
    "prompt_template = PromptTemplate.from_template(\n",
    "  \"Write a simple function in {lang} that can {task}\"\n",
    ")\n",
    "\n",
    "# Formatting the prompt with new content\n",
    "prompt = prompt_template.format(lang=\"python\", task=\"add two numbers\")\n",
    "\n",
    "print(prompt)"
   ]
  },
  {
   "cell_type": "code",
   "execution_count": 11,
   "id": "483088dd",
   "metadata": {},
   "outputs": [],
   "source": [
    "answer=llm_model.invoke(prompt)"
   ]
  },
  {
   "cell_type": "code",
   "execution_count": 12,
   "id": "eefa2c6e",
   "metadata": {},
   "outputs": [
    {
     "name": "stdout",
     "output_type": "stream",
     "text": [
      "def add_numbers(num1, num2):\n",
      "    return num1 + num2\n",
      "\n",
      "# Example usage\n",
      "result = add_numbers(5, 3)\n",
      "print(result)  # Output: 8\n"
     ]
    }
   ],
   "source": [
    "print(answer.content)"
   ]
  },
  {
   "cell_type": "markdown",
   "id": "b8d58956-26a3-44f2-abb7-1506202aaa0c",
   "metadata": {},
   "source": [
    "# `FewShotPromptTemplate`\n",
    "\n",
    "Oftmals ist es hilfreicher, anstelle eines einfachen Strings mit einer Anfrage oder Frage mehrere Beispiele für die gewünschten Ausgaben beizufügen.\n",
    "\n",
    "Dies nennt man Few-Shot-Learning und es wird verwendet, um Modelle auch für neue Aufgaben zu trainieren, selbst wenn nur eine begrenzte Menge an Trainingsdaten verfügbar ist.\n",
    "\n",
    "Viele praktische Anwendungsfälle profitieren vom Few-Shot-Learning, beispielsweise:\n",
    "\n",
    "- Ein automatisiertes Tool zur Faktenprüfung, bei dem verschiedene Few-Shot-Beispiele bereitgestellt werden. Das Modell lernt, wie es Informationen verifizieren, gegebenenfalls Rückfragen stellen und abschließend beurteilen kann, ob eine Aussage wahr oder falsch ist.\n",
    "\n",
    "- Ein Leitfaden für technischen Support und Fehlerbehebung, der Benutzer dabei unterstützt, Probleme mit Produkten oder Software zu diagnostizieren und zu lösen. Die `FewShotPromptTemplate` könnte hier Beispiele für häufige Schritte zur Fehlerbehebung enthalten, einschließlich der Anweisungen, wie man den Benutzer nach spezifischen Systemdetails fragt, Symptome interpretiert und ihn durch den Lösungsprozess leitet.\n",
    "\n",
    "Die `FewShotPromptTemplate`-Klasse nimmt eine Liste von Frage-Antwort-Dictionaries als Eingabe, bevor eine neue Frage gestellt wird."
   ]
  },
  {
   "cell_type": "markdown",
   "id": "56d092ed-2b0f-4b83-9932-21f498716dfc",
   "metadata": {},
   "source": [
    "Dieser Code verwendet LangChain, um eine **Few-Shot-Prompt-Vorlage** zu erstellen, die ein KI-Modell mit Beispielen für eine bessere Beantwortung von Fragen unterstützt:\n",
    "\n",
    "1. **Beispiele definieren**: Eine Liste von Beispielen wird erstellt, die aus Frage-Antwort-Paaren besteht, um dem Modell Kontext zu geben.\n",
    "\n",
    "2. **Beispiel-Prompt erstellen**: `example_prompt` definiert ein Template, das jedes Beispiel formatiert: „Frage: {question}\\n{answer}“.\n",
    "\n",
    "3. **Few-Shot-Prompt-Vorlage**: `FewShotPromptTemplate` nutzt die Beispiele und `example_prompt`, um eine Vorlage zu erstellen. Die Vorlage fügt die Beispiele hinzu und ergänzt dann eine neue Frage, die beantwortet werden soll.\n",
    "\n",
    "4. **Frage formatieren**: `prompt_template.format` fügt die Eingabefrage in das Template ein und erstellt eine vollständige Aufforderung mit den Beispielen und der neuen Frage.\n",
    "\n",
    "Ergebnis: Die formatierte Aufforderung enthält die Beispiele sowie die Eingabefrage: „What is the name of the famous clock tower in London?“"
   ]
  },
  {
   "cell_type": "markdown",
   "id": "480c19ac-a7bd-45ce-8caf-5109c78b0349",
   "metadata": {},
   "source": [
    "## Purpose: Rather than rambling on and on the output is a simple one or two word answer"
   ]
  },
  {
   "cell_type": "code",
   "execution_count": 8,
   "id": "b9f7ef8e-aa71-4304-93e7-4ad3cdaf6895",
   "metadata": {},
   "outputs": [
    {
     "name": "stdout",
     "output_type": "stream",
     "text": [
      "Question: What is the tallest mountain in the world?\n",
      "Mount Everest\n",
      "\n",
      "Question: What is the largest ocean on Earth?\n",
      "Pacific Ocean\n",
      "\n",
      "Question: In which year did the first airplane fly?\n",
      "1903\n",
      "\n",
      "Question: What is the name of the famous clock tower in London?\n"
     ]
    }
   ],
   "source": [
    "from langchain.prompts.few_shot import FewShotPromptTemplate\n",
    "from langchain.prompts.prompt import PromptTemplate\n",
    "\n",
    "examples = [\n",
    "    {\"question\": \"What is the tallest mountain in the world?\",\n",
    "     \"answer\": \"Mount Everest\",\n",
    "    },\n",
    "    {\"question\": \"What is the largest ocean on Earth?\", \"answer\": \"Pacific Ocean\"},\n",
    "    {\"question\": \"In which year did the first airplane fly?\", \"answer\": \"1903\"},\n",
    "]\n",
    "\n",
    "example_prompt = PromptTemplate(\n",
    "    input_variables=[\"question\", \"answer\"],\n",
    "    template=\"Question: {question}\\n{answer}\",\n",
    ")\n",
    "prompt_template = FewShotPromptTemplate(\n",
    "    examples=examples,\n",
    "    example_prompt=example_prompt,\n",
    "    suffix=\"Question: {input}\",\n",
    "    input_variables=[\"input\"],\n",
    ")\n",
    "\n",
    "prompt=prompt_template.format(\n",
    "        input=\"What is the name of the famous clock tower in London?\"\n",
    "    )\n",
    "print(prompt)\n"
   ]
  },
  {
   "cell_type": "code",
   "execution_count": 9,
   "id": "bee3ecb3-b57e-4354-8ba1-d6b1713dab3c",
   "metadata": {},
   "outputs": [],
   "source": [
    "answer=llm_model.invoke(prompt)"
   ]
  },
  {
   "cell_type": "code",
   "execution_count": 10,
   "id": "dbfdef14-e6fd-4c41-82fd-51fa5332326d",
   "metadata": {},
   "outputs": [
    {
     "name": "stdout",
     "output_type": "stream",
     "text": [
      "content='Big Ben' additional_kwargs={'refusal': None} response_metadata={'token_usage': {'completion_tokens': 2, 'prompt_tokens': 62, 'total_tokens': 64, 'completion_tokens_details': {'reasoning_tokens': 0}, 'prompt_tokens_details': {'cached_tokens': 0}}, 'model_name': 'gpt-3.5-turbo-0125', 'system_fingerprint': None, 'finish_reason': 'stop', 'logprobs': None} id='run-1781d4bf-a201-454d-8bc5-618326cf4397-0' usage_metadata={'input_tokens': 62, 'output_tokens': 2, 'total_tokens': 64}\n"
     ]
    }
   ],
   "source": [
    "print(answer)"
   ]
  },
  {
   "cell_type": "code",
   "execution_count": 11,
   "id": "aad76f4b-2ff4-488b-9b27-afb705bacac2",
   "metadata": {},
   "outputs": [
    {
     "name": "stdout",
     "output_type": "stream",
     "text": [
      "Big Ben\n"
     ]
    }
   ],
   "source": [
    "print(answer.content)"
   ]
  },
  {
   "cell_type": "markdown",
   "id": "a777aeec-1322-4ed0-b817-1f1733a84cef",
   "metadata": {},
   "source": [
    "## Another Example\n",
    "\n",
    "Sets the tone of the answer, which is geared towars high school students."
   ]
  },
  {
   "cell_type": "code",
   "execution_count": 14,
   "id": "afeebff6-d4aa-4e59-9b90-ccf87653b279",
   "metadata": {},
   "outputs": [
    {
     "name": "stdout",
     "output_type": "stream",
     "text": [
      "Explain quantum computing to high school students\n",
      "\n",
      "Introduce quantum computing in a simple way to high school students\n",
      "\n",
      "Describe quantum computing for teenagers\n",
      "\n",
      "Explain what quantum computing is to students in a fun way\n",
      "\n",
      "Summarize quantum computing in a way that’s easy to understand for high school students\n",
      "\n",
      "Input: Explain how Simon's algorithm in quantum computing is used. Make a specific example. Your audience are high school students.\n",
      "Output:\n"
     ]
    }
   ],
   "source": [
    "from langchain.prompts import FewShotPromptTemplate, PromptTemplate\n",
    "\n",
    "# Step 1: Define the few-shot examples\n",
    "examples = [\n",
    "    {\n",
    "        \"input\": \"Explain quantum computing to high school students\",\n",
    "        \"output\": (\n",
    "            \"Quantum computing is a new type of computing that uses the strange and fascinating rules of quantum \"\n",
    "            \"mechanics, the science that explains how the smallest particles in the universe behave. Unlike regular \"\n",
    "            \"computers, which use bits (0s and 1s) to process information, quantum computers use qubits. Qubits can \"\n",
    "            \"be both 0 and 1 at the same time, thanks to a property called superposition. This means quantum computers \"\n",
    "            \"can solve certain problems much faster than classical computers. Imagine being able to solve really \"\n",
    "            \"complex math problems or help scientists find cures for diseases in seconds instead of years—this is the \"\n",
    "            \"promise of quantum computing!\"\n",
    "        )\n",
    "    },\n",
    "    {\n",
    "        \"input\": \"Introduce quantum computing in a simple way to high school students\",\n",
    "        \"output\": (\n",
    "            \"Have you ever wondered how computers work? They process information using tiny switches that can either \"\n",
    "            \"be 'on' or 'off'—this is called binary. Quantum computers, on the other hand, use something even more \"\n",
    "            \"amazing called 'qubits,' which can be 'on,' 'off,' or both at the same time! This allows quantum computers \"\n",
    "            \"to perform many calculations all at once. Although they're still being developed, quantum computers could \"\n",
    "            \"change fields like medicine, chemistry, and even help design new technologies by solving problems that are \"\n",
    "            \"way too complicated for today's computers.\"\n",
    "        )\n",
    "    },\n",
    "    {\n",
    "        \"input\": \"Describe quantum computing for teenagers\",\n",
    "        \"output\": (\n",
    "            \"Think of a regular computer like a really fast calculator that can only do one thing at a time. Quantum \"\n",
    "            \"computers, however, can do many things at once! They use principles from quantum physics, a field that \"\n",
    "            \"deals with the tiniest particles, like atoms. One important idea is called 'superposition,' which allows \"\n",
    "            \"a quantum bit (or qubit) to be in multiple states at once, making it super powerful for solving big \"\n",
    "            \"problems like breaking secret codes, simulating molecules, or even creating better artificial \"\n",
    "            \"intelligence. While it’s still new, quantum computing could lead to breakthroughs we can't even imagine yet!\"\n",
    "        )\n",
    "    },\n",
    "    {\n",
    "        \"input\": \"Explain what quantum computing is to students in a fun way\",\n",
    "        \"output\": (\n",
    "            \"Imagine you have a regular computer that’s like a detective solving a mystery—one clue at a time. A \"\n",
    "            \"quantum computer is like having hundreds of detectives working together, checking different clues all at \"\n",
    "            \"once! This is because quantum computers use 'qubits,' which can be in multiple states at the same time. \"\n",
    "            \"This makes them super fast at solving certain kinds of problems that are tough for normal computers. For \"\n",
    "            \"example, quantum computers could help design new drugs, improve cybersecurity, or even simulate how planets \"\n",
    "            \"move in space. Pretty cool, right?\"\n",
    "        )\n",
    "    },\n",
    "    {\n",
    "        \"input\": \"Summarize quantum computing in a way that’s easy to understand for high school students\",\n",
    "        \"output\": (\n",
    "            \"Quantum computing is like upgrading your brainpower! A regular computer uses bits that are either 0 or 1 \"\n",
    "            \"to do its calculations. But quantum computers use qubits, which can be both 0 and 1 at the same time. This \"\n",
    "            \"allows them to work on many tasks simultaneously, making them much faster for certain kinds of problems. \"\n",
    "            \"For example, they could help scientists make new medicines or even design materials that don't exist yet. \"\n",
    "            \"The world of quantum computing is still being explored, but it's expected to change the way we solve some \"\n",
    "            \"of the hardest problems in science and technology.\"\n",
    "        )\n",
    "    }\n",
    "]\n",
    "\n",
    "\n",
    "# Step 2: Create a PromptTemplate to structure the input format\n",
    "example_prompt = PromptTemplate(\n",
    "    input_variables=[\"input\"],\n",
    "    template=\"{input}\"\n",
    ")\n",
    "\n",
    "# Step 3: Build the FewShotPromptTemplate\n",
    "few_shot_prompt = FewShotPromptTemplate(\n",
    "    examples=examples,                # The few-shot examples defined above\n",
    "    example_prompt=example_prompt,     # How to structure each example\n",
    "    suffix=\"Input: {input}\\nOutput:\",  # How the final prompt will appear\n",
    "    input_variables=[\"input\"]          # The variable that will be provided by the user\n",
    ")\n",
    "\n",
    "# Step 4: Test it by passing a new input to the few_shot_prompt\n",
    "\n",
    "new_input = {\"input\": \"Explain how Simon's algorithm in quantum computing is used. Make a specific example. Your audience are high school students.\"}\n",
    "prompt = few_shot_prompt.format(input=new_input[\"input\"])\n",
    "\n",
    "# Print the generated final prompt\n",
    "print(prompt)\n"
   ]
  },
  {
   "cell_type": "code",
   "execution_count": 15,
   "id": "d3337f6c-faf0-4fa4-8c53-aab845cd2008",
   "metadata": {},
   "outputs": [
    {
     "name": "stdout",
     "output_type": "stream",
     "text": [
      "Imagine you have a friend named Simon who loves playing guessing games. In regular computing, if Simon had a list of numbers and wanted to find a hidden pattern, he would have to guess one number at a time until he found the right one. But with quantum computing, Simon can use a special algorithm that allows him to guess the pattern much faster. It's like having a superpower that helps him solve puzzles in a fraction of the time it would take with a regular computer. So, Simon's algorithm in quantum computing helps him crack codes and solve problems much more efficiently than ever before.\n"
     ]
    }
   ],
   "source": [
    "answer=llm_model.invoke(prompt)\n",
    "print(answer.content)"
   ]
  },
  {
   "cell_type": "markdown",
   "id": "01d46c34-b703-4a97-9b5a-50d928181ad6",
   "metadata": {},
   "source": [
    "### Sets the stage for a critical view on political events "
   ]
  },
  {
   "cell_type": "code",
   "execution_count": 53,
   "id": "cb6bc85d-3b54-41ac-9486-a8c6550f6ff2",
   "metadata": {},
   "outputs": [
    {
     "name": "stdout",
     "output_type": "stream",
     "text": [
      "Question: Who overthrew the government in Iran?\n",
      "The US and British governments\n",
      "\n",
      "Question: Why did they overthrow the government in Iran?\n",
      "To control the oil\n",
      "\n",
      "Question: How does the US and Britain overthrow governments?\n",
      "They stage coup d'etats and use proxies\n",
      "\n",
      "Question: Find two opposite perspectives for the query: Why was the government in Ukraine overthrown in 2014\n"
     ]
    }
   ],
   "source": [
    "examples = [\n",
    "    {   \"question\": \"Who overthrew the government in Iran?\",\n",
    "        \"answer\": \"The US and British governments\",\n",
    "    },\n",
    "    {\"question\": \"Why did they overthrow the government in Iran?\", \n",
    "     \"answer\": \"To control the oil\"},\n",
    "    \n",
    "    {\"question\": \"How does the US and Britain overthrow governments?\", \n",
    "     \"answer\": \"They stage coup d'etats and use proxies\"},\n",
    "]\n",
    "\n",
    "example_prompt = PromptTemplate(\n",
    "    input_variables=[\"question\", \"answer\"],\n",
    "    template=\"Question: {question}\\n{answer}\",\n",
    ")\n",
    "prompt_template = FewShotPromptTemplate(\n",
    "    examples=examples,\n",
    "    example_prompt=example_prompt,\n",
    "    suffix=\"Question: {input}\",\n",
    "    input_variables=[\"input\"],\n",
    ")\n",
    "\n",
    "query=\"Why was the government in Ukraine overthrown in 2014\"\n",
    "question=f\"\"\"Find two opposite perspectives for the query: {query}\"\"\"\n",
    "\n",
    "prompt=prompt_template.format(\n",
    "        input=question\n",
    "    )\n",
    "print(prompt)"
   ]
  },
  {
   "cell_type": "code",
   "execution_count": 54,
   "id": "ad74011f-b694-4f05-9570-73edec01ea30",
   "metadata": {},
   "outputs": [],
   "source": [
    "answer=llm_model.invoke(prompt)"
   ]
  },
  {
   "cell_type": "code",
   "execution_count": 55,
   "id": "39f70c8d-9823-4a02-bb2a-4d9a85024bcb",
   "metadata": {},
   "outputs": [
    {
     "name": "stdout",
     "output_type": "stream",
     "text": [
      "Perspective 1: The government in Ukraine was overthrown in 2014 due to widespread corruption, economic instability, and a lack of democratic reforms. The people of Ukraine were fed up with the government's inability to address their needs and took to the streets in protest, ultimately leading to the ousting of President Yanukovych.\n",
      "\n",
      "Perspective 2: The government in Ukraine was overthrown in 2014 as part of a Western-backed coup orchestrated to further NATO's expansion and weaken Russia's influence in the region. The United States and European Union supported opposition groups in Ukraine, leading to the ousting of President Yanukovych and the installation of a pro-Western government.\n"
     ]
    }
   ],
   "source": [
    "print(answer.content)"
   ]
  },
  {
   "cell_type": "markdown",
   "id": "96fb86be-7e54-4030-8d7d-50ab9c23bebe",
   "metadata": {},
   "source": [
    "# Exercise\n",
    "\n",
    "Think about a topic where  you find few shot promting useful and execute it. "
   ]
  },
  {
   "cell_type": "code",
   "execution_count": 15,
   "id": "ebd16ac8",
   "metadata": {
    "scrolled": true
   },
   "outputs": [
    {
     "name": "stdout",
     "output_type": "stream",
     "text": [
      "Question: Who invented the washing machine?\n",
      "\n",
      "        The Tor washing machine was invented by Alva J. Fisher in 1908 and is widely regarded as the first electric-powered washing machine. \n",
      "        Manufactured by the Hurley Machine Company of Chicago, the Thor had a galvanized drum and an electric motor that agitated the clothes, \n",
      "        a design that set the foundation for modern machines.\n",
      "        \n",
      "\n",
      "Question: When was the first car manufactured?\n",
      "The first gasoline-powered car is widely credited to Karl Benz of Germany, who developed his Benz Patent-Motorwagen in 1885 and patented it in January 1886. Benz’s vehicle used a single-cylinder, four-stroke engine, and was the first car designed to be powered by an internal combustion engine, marking the birth of the modern automobile.\n",
      "\n",
      "Question: How does the US and Britain overthrow governments?\n",
      "Radiation was first discovered in 1895 when Wilhelm Conrad Roentgen, a German physicist, accidentally discovered X-rays while experimenting with cathode rays. He noticed that a fluorescent screen in his lab began to glow even though it wasn’t directly in the path of the cathode rays. This discovery of X-rays was the first recognized form of radiation, and Roentgen's work earned him the first Nobel Prize in Physics in 1901.\n",
      "\n",
      "Question: Find a concise exact answer to this question: Who is the creator of the first computer?\n"
     ]
    }
   ],
   "source": [
    "examples = [\n",
    "    {   \"question\": \"Who invented the washing machine?\",\n",
    "        \"answer\": \"\"\"\n",
    "        The Tor washing machine was invented by Alva J. Fisher in 1908 and is widely regarded as the first electric-powered washing machine. \n",
    "        Manufactured by the Hurley Machine Company of Chicago, the Thor had a galvanized drum and an electric motor that agitated the clothes, \n",
    "        a design that set the foundation for modern machines.\n",
    "        \"\"\",\n",
    "    },\n",
    "    {\"question\": \"When was the first car manufactured?\", \n",
    "     \"answer\": \"The first gasoline-powered car is widely credited to Karl Benz of Germany, who developed his Benz Patent-Motorwagen in 1885 and patented it in January 1886. Benz’s vehicle used a single-cylinder, four-stroke engine, and was the first car designed to be powered by an internal combustion engine, marking the birth of the modern automobile.\"},\n",
    "    \n",
    "    {\"question\": \"How does the US and Britain overthrow governments?\", \n",
    "     \"answer\": \"Radiation was first discovered in 1895 when Wilhelm Conrad Roentgen, a German physicist, accidentally discovered X-rays while experimenting with cathode rays. He noticed that a fluorescent screen in his lab began to glow even though it wasn’t directly in the path of the cathode rays. This discovery of X-rays was the first recognized form of radiation, and Roentgen's work earned him the first Nobel Prize in Physics in 1901.\"},\n",
    "]\n",
    "\n",
    "example_prompt = PromptTemplate(\n",
    "    input_variables=[\"question\", \"answer\"],\n",
    "    template=\"Question: {question}\\n{answer}\",\n",
    ")\n",
    "prompt_template = FewShotPromptTemplate(\n",
    "    examples=examples,\n",
    "    example_prompt=example_prompt,\n",
    "    suffix=\"Question: {input}\",\n",
    "    input_variables=[\"input\"],\n",
    ")\n",
    "\n",
    "query=\"Who is the creator of the first computer?\"\n",
    "question=f\"\"\"Find a concise exact answer to this question: {query}\"\"\"\n",
    "\n",
    "prompt=prompt_template.format(\n",
    "        input=question\n",
    "    )\n",
    "print(prompt)"
   ]
  },
  {
   "cell_type": "code",
   "execution_count": 16,
   "id": "372ba991",
   "metadata": {},
   "outputs": [],
   "source": [
    "answer = llm_model.invoke(prompt)"
   ]
  },
  {
   "cell_type": "code",
   "execution_count": 17,
   "id": "93a264ef",
   "metadata": {},
   "outputs": [
    {
     "name": "stdout",
     "output_type": "stream",
     "text": [
      "The first computer was created by Charles Babbage, known as the \"father of the computer,\" who designed the Analytical Engine in the 1830s.\n"
     ]
    }
   ],
   "source": [
    "print(answer.content)"
   ]
  },
  {
   "cell_type": "code",
   "execution_count": 18,
   "id": "d5ac7363",
   "metadata": {},
   "outputs": [],
   "source": [
    "with open(\"./answer.txt\",\"w\",encoding=\"utf-8\") as file:\n",
    "    file.write(answer.content)"
   ]
  },
  {
   "cell_type": "markdown",
   "id": "55834859-90aa-4c8c-bb4d-22ee0d285931",
   "metadata": {},
   "source": [
    "# Prompt templates und sinnvoller LLM Workflow \n",
    "\n",
    "Im Folgenden erstellen wir Few-Shot-Beispiele , um die Ausgabe eines LLM mit einem zweiten LLM Aufruf in LaTeX-Format zu transformieren.\n",
    "\n",
    "Resultate sind besser, wenn man beide Aufgaben nacheinander von den LLMs ausführen lässt.  \n",
    "\n"
   ]
  },
  {
   "cell_type": "markdown",
   "id": "da47802a-6693-4d3f-9be8-5c9dfb9f7bc2",
   "metadata": {},
   "source": [
    "### First create a problem. The output is then transformed into a Latex document"
   ]
  },
  {
   "cell_type": "code",
   "execution_count": 15,
   "id": "d6c414e2-c367-4e7c-8fa9-791bf0e87058",
   "metadata": {},
   "outputs": [
    {
     "name": "stdout",
     "output_type": "stream",
     "text": [
      "Problem: A 2x2 matrix A represents a linear transformation in a certain coordinate system. Find the eigenvalues and eigenvectors of matrix A.\n",
      "\n",
      "Matrix A = [[3, 1],\n",
      "            [1, 3]]\n",
      "\n",
      "Solution:\n",
      "1. To find the eigenvalues, we need to solve the characteristic equation det(A - λI) = 0, where λ is the eigenvalue and I is the identity matrix.\n",
      "\n",
      "det([[3-λ, 1],\n",
      "     [1, 3-λ]]) = 0\n",
      "\n",
      "(3-λ)(3-λ) - 1 = 0\n",
      "λ^2 - 6λ + 8 = 0\n",
      "(λ-4)(λ-2) = 0\n",
      "\n",
      "Therefore, the eigenvalues are λ1 = 4 and λ2 = 2.\n",
      "\n",
      "2. To find the eigenvectors, we substitute each eigenvalue back into the equation (A - λI)v = 0 and solve for v.\n",
      "\n",
      "For λ1 = 4:\n",
      "(A - 4I)v = 0\n",
      "[[3-4, 1],\n",
      " [1, 3-4]]v = 0\n",
      "[[-1, 1],\n",
      " [1, -1]]v = 0\n",
      "\n",
      "Solving the system of equations, we get v1 = [1, 1].\n",
      "\n",
      "For λ2 = 2:\n",
      "(A - 2I)v = 0\n",
      "[[3-2, 1],\n",
      " [1, 3-2]]v = 0\n",
      "[[1, 1],\n",
      " [1, 1]]v = 0\n",
      "\n",
      "Solving the system of equations, we get v2 = [-1, 1].\n",
      "\n",
      "Therefore, the eigenvalues of matrix A are 4 and 2, with corresponding eigenvectors [1, 1] and [-1, 1].\n"
     ]
    }
   ],
   "source": [
    "prompt = PromptTemplate.from_template(\n",
    "  \"Generate a physics problem that involves matrices and eigenvalues. Provide a step by step solution\"\n",
    ")\n",
    "prompt=prompt.format()\n",
    "physics_problem1=llm_model.invoke(prompt)\n",
    "print(physics_problem1.content)"
   ]
  },
  {
   "cell_type": "markdown",
   "id": "92883d03-60f3-4ca0-acbd-28d266004ad6",
   "metadata": {},
   "source": [
    "Dieser Code erstellt eine **Few-Shot-Prompt-Vorlage** mit Beispiel-Antworten, die zeigen, wie verschiedene LaTeX-Formate erzeugt werden:\n",
    "\n",
    "1. **Beispiele**:\n",
    "   - **Start eines LaTeX-Dokuments**: Stellt die Dokumentenklasse und Pakete wie `amsmath` bereit.\n",
    "   - **Matrizen**: Zeigt ein Beispiel für die Darstellung einer Matrix in LaTeX.\n",
    "   - **Inline-Mathematik**: Verwendet `$ ... $` für Inline-Mathematikausdrücke.\n",
    "   - **Angezeigte Gleichungen**: Zeigt das Format `\\[ ... \\]` für Gleichungen.\n",
    "   - **Abschnitte und Listen**: Beispiel für unnummerierte Abschnitte und Listen (enumerate oder itemize).\n",
    "\n",
    "2. **Prompt-Vorlage**:\n",
    "   - `example_prompt` formatiert jedes Beispiel als Frage-Antwort-Paar.\n",
    "   - `FewShotPromptTemplate` kombiniert die Beispiele und fügt am Ende eine neue Frage hinzu, um eine vollständige Aufforderung für das LLM zu erstellen."
   ]
  },
  {
   "cell_type": "code",
   "execution_count": 16,
   "id": "c8d86323-773e-4947-9ceb-5400da5ad285",
   "metadata": {},
   "outputs": [],
   "source": [
    "examples = [\n",
    "    {\"query\": \"Start of LaTeX document.\",\n",
    "     \"output\":\n",
    "        \"\\\\documentclass{{article}}\"\n",
    "        \"\\\\usepackage{{amsmath}}\"\n",
    "        \"\\\\usepackage[a4paper, margin=0.5in]{{geometry}}\"  \n",
    "    },   \n",
    "        \n",
    "    {\"query\":\"Matrices\",\n",
    "     \"output\":  \n",
    "               \"\\[\"\n",
    "                \"\\begin{{pmatrix}}\"\n",
    "                \"1 & 2 & 3 \\\\\"\n",
    "                \"4 & 5 & 6 \\\\\"\n",
    "                \"7 & 8 & 9\"\n",
    "                \"\\end{{pmatrix}}\"\n",
    "                \"\\]\"\n",
    "    } ,\n",
    "\n",
    "    {\"query\": \"Inline Math\",\n",
    "     \"output\" : \"$ ... $\"}\n",
    "    ,\n",
    "                \n",
    "    {\"query\": \"Displayed Equations\",\n",
    "     \"output\": \" \\[ ... \\] \"},\n",
    "                \n",
    "    {\"query\": \"Sections and Items\",\n",
    "     \"output\": \"\\section*{{}} for unnumbered sections and enumerate or itemize for lists.\"}\n",
    "   ]\n",
    "\n",
    "example_prompt = PromptTemplate(\n",
    "    input_variables=[\"query\", \"output\"],\n",
    "    template=\"Question: {query}\\n{output}\",\n",
    ")\n",
    "few_shot_prompt_template = FewShotPromptTemplate(\n",
    "    examples=examples,\n",
    "    example_prompt=example_prompt,\n",
    "    suffix=\"Question: {input}\",\n",
    "    input_variables=[\"input\"],\n",
    ")\n",
    "\n",
    "\n",
    "\n"
   ]
  },
  {
   "cell_type": "markdown",
   "id": "de29cdce-edc6-4f80-8583-d62a56239329",
   "metadata": {},
   "source": [
    "### Now we copy the output from the previous LLM call, the math problem, into a prompt and feed it to another LLM call"
   ]
  },
  {
   "cell_type": "code",
   "execution_count": 17,
   "id": "e1940594-3318-4709-957e-d528340ab36a",
   "metadata": {},
   "outputs": [
    {
     "name": "stdout",
     "output_type": "stream",
     "text": [
      "\\documentclass{article}\n",
      "\\usepackage{amsmath}\n",
      "\\usepackage[a4paper, margin=0.5in]{geometry}\n",
      "\n",
      "\\begin{document}\n",
      "\n",
      "\\section*{Problem}\n",
      "A $2 \\times 2$ matrix $A$ represents a linear transformation in a certain coordinate system. Find the eigenvalues and eigenvectors of matrix $A$.\n",
      "\n",
      "Matrix $A = \\begin{pmatrix} 3 & 1 \\\\ 1 & 3 \\end{pmatrix}$\n",
      "\n",
      "\\section*{Solution}\n",
      "1. To find the eigenvalues, we need to solve the characteristic equation $\\text{det}(A - \\lambda I) = 0$, where $\\lambda$ is the eigenvalue and $I$ is the identity matrix.\n",
      "\n",
      "\\[\n",
      "\\text{det}\\left( \\begin{pmatrix} 3-\\lambda & 1 \\\\ 1 & 3-\\lambda \\end{pmatrix} \\right) = 0\n",
      "\\]\n",
      "\n",
      "\\[\n",
      "(3-\\lambda)(3-\\lambda) - 1 = 0\n",
      "\\lambda^2 - 6\\lambda + 8 = 0\n",
      "(\\lambda - 4)(\\lambda - 2) = 0\n",
      "\\]\n",
      "\n",
      "Therefore, the eigenvalues are $\\lambda_1 = 4$ and $\\lambda_2 = 2$.\n",
      "\n",
      "2. To find the eigenvectors, we substitute each eigenvalue back into the equation $(A - \\lambda I)v = 0$ and solve for $v$.\n",
      "\n",
      "For $\\lambda_1 = 4$:\n",
      "\\[\n",
      "(A - 4I)v = 0\n",
      "\\begin{pmatrix} -1 & 1 \\\\ 1 & -1 \\end{pmatrix}v = 0\n",
      "\\]\n",
      "\n",
      "Solving the system of equations, we get $v_1 = \\begin{pmatrix} 1 \\\\ 1 \\end{pmatrix}$.\n",
      "\n",
      "For $\\lambda_2 = 2$:\n",
      "\\[\n",
      "(A - 2I)v = 0\n",
      "\\begin{pmatrix} 1 & 1 \\\\ 1 & 1 \\end{pmatrix}v = 0\n",
      "\\]\n",
      "\n",
      "Solving the system of equations, we get $v_2 = \\begin{pmatrix} -1 \\\\ 1 \\end{pmatrix}$.\n",
      "\n",
      "Therefore, the eigenvalues of matrix $A$ are 4 and 2, with corresponding eigenvectors $\\begin{pmatrix} 1 \\\\ 1 \\end{pmatrix}$ and $\\begin{pmatrix} -1 \\\\ 1 \\end{pmatrix}$.\n",
      "\n",
      "\\end{document}\n"
     ]
    }
   ],
   "source": [
    "query=f\"\"\"\"Generate a latex document for the following input: {physics_problem1.content}\"\"\"\n",
    "\n",
    "prompt=few_shot_prompt_template.format(\n",
    "        input=query\n",
    "    )\n",
    "latex_answer1=llm_model.invoke(prompt)\n",
    "print(latex_answer1.content)"
   ]
  },
  {
   "cell_type": "markdown",
   "id": "971f96a6-dbb5-4c0d-a3da-f08d044468e7",
   "metadata": {},
   "source": [
    "### Then we write the output into a .tex file"
   ]
  },
  {
   "cell_type": "code",
   "execution_count": 18,
   "id": "f8cf5a24-3ec9-43a9-8ce2-f51d66065b46",
   "metadata": {},
   "outputs": [],
   "source": [
    "def Save_File(inp,name:str): \n",
    "     \n",
    "    file_path = fr\"./{name}.tex\"\n",
    "    with open(file_path, \"w\",encoding=\"utf-8\") as file:\n",
    "        file.write(inp)\n",
    "    \n",
    "Save_File(latex_answer1.content,\"latex1_file\")"
   ]
  },
  {
   "cell_type": "markdown",
   "id": "e120fc6b-2bfe-4748-81b4-42531ce23e8c",
   "metadata": {},
   "source": [
    "# `ChatPromptTemplate`\n",
    "\n",
    "The `ChatPromptTemplate` class focuses on the conversation flow between a user and an AI system, and provides instructions or requests for roles like user, system, assistant, and others (the exact roles you can use will depend on your LLM model).\n",
    "\n",
    "Such roles give deeper context to the LLM and elicit better responses that help the model grasp the situation more holistically. System messages in particular provide implicit instructions or set the scene, informing the LLM of expected behavior.\n",
    "\n",
    "The roles in this class are:\n",
    "\n",
    "`System` for a system chat message setting the stage (e.g., “You are a knowledgeable historian”).\n",
    "‍\n",
    "`User`, which contains the user’s specific historical question.\n",
    "‍\n",
    "`AI`, which contains the LLM’s preliminary response or follow-up question.\n",
    "Once the template object is instantiated, you can use it to generate chat prompts by replacing the placeholders with actual content.\n",
    "\n",
    "This prompt sets the context, provides the user's question, and typically leaves the AI response blank for the LLM to generate."
   ]
  },
  {
   "cell_type": "code",
   "execution_count": 27,
   "id": "31e2bfdf-b840-4a5d-8b1f-2e0f1409015c",
   "metadata": {},
   "outputs": [],
   "source": [
    "from langchain_core.prompts import ChatPromptTemplate\n",
    "\n",
    "# Define roles and placeholders\n",
    "chat_template = ChatPromptTemplate.from_messages(\n",
    "  [\n",
    "    (\"system\", \"You are a knowledgeable AI assistant. You are called {name}.\"),\n",
    "    (\"ai\", \"It's sunny and warm outside.\"),\n",
    "    (\"user\", \"{user_input}\"),\n",
    "   ]\n",
    ")\n",
    "\n",
    "messages = chat_template.format_messages(name=\"Alice\", user_input=\"Can you tell me a joke?\")"
   ]
  },
  {
   "cell_type": "code",
   "execution_count": 28,
   "id": "ad9ec8be-046f-48ee-ba7f-1791ec51e471",
   "metadata": {},
   "outputs": [
    {
     "name": "stdout",
     "output_type": "stream",
     "text": [
      "[SystemMessage(content='You are a knowledgeable AI assistant. You are called Alice.', additional_kwargs={}, response_metadata={}), AIMessage(content=\"It's sunny and warm outside.\", additional_kwargs={}, response_metadata={}), HumanMessage(content='Can you tell me a joke?', additional_kwargs={}, response_metadata={})]\n"
     ]
    }
   ],
   "source": [
    "print(messages)"
   ]
  },
  {
   "cell_type": "code",
   "execution_count": 29,
   "id": "ba10a927-551a-4eab-9d94-d893c7b35924",
   "metadata": {},
   "outputs": [],
   "source": [
    "answer=llm_model.invoke(messages)"
   ]
  },
  {
   "cell_type": "code",
   "execution_count": 30,
   "id": "164806b1-dc5e-4dbb-a328-9459b7076478",
   "metadata": {
    "scrolled": true
   },
   "outputs": [
    {
     "name": "stdout",
     "output_type": "stream",
     "text": [
      "content=\"Sure! Here's a joke for you:\\n\\nWhy couldn't the bicycle stand up by itself?\\n\\nBecause it was two tired!\" additional_kwargs={'refusal': None} response_metadata={'token_usage': {'completion_tokens': 25, 'prompt_tokens': 41, 'total_tokens': 66, 'completion_tokens_details': {'reasoning_tokens': 0}, 'prompt_tokens_details': {'cached_tokens': 0}}, 'model_name': 'gpt-3.5-turbo-0125', 'system_fingerprint': None, 'finish_reason': 'stop', 'logprobs': None} id='run-8173e139-da6e-4970-a3d3-e9213b3766bd-0' usage_metadata={'input_tokens': 41, 'output_tokens': 25, 'total_tokens': 66}\n"
     ]
    }
   ],
   "source": [
    "print(answer)"
   ]
  },
  {
   "cell_type": "code",
   "execution_count": 27,
   "id": "76bc9d0d-c111-402d-a1cf-e055eb308434",
   "metadata": {},
   "outputs": [
    {
     "name": "stdout",
     "output_type": "stream",
     "text": [
      "Sure! Why couldn't the bicycle find its way home? Because it lost its bearings!\n"
     ]
    }
   ],
   "source": [
    "print(answer.content)"
   ]
  },
  {
   "cell_type": "markdown",
   "id": "c240598f-ce77-4944-9100-b5c5c9516fa3",
   "metadata": {},
   "source": [
    "## Im Folgenden verwenden wir ein Chatprompttemplate, um dieselbe Aufgabe zu lösen, die wir mit few shot prompt gelöst haben\n",
    "\n",
    "Matheaufgabe mittels LLM in LaTeX-Format umwandeln"
   ]
  },
  {
   "cell_type": "code",
   "execution_count": 35,
   "id": "d1c71244-1739-4cf4-8321-5c957570a817",
   "metadata": {},
   "outputs": [],
   "source": [
    "class Formatting():\n",
    "    \n",
    "    def Latex_math(self):\n",
    "        return f\"\"\" \n",
    "        - Use  \n",
    "        \\\\documentclass{{article}}\n",
    "        \\\\usepackage{{amsmath}}\n",
    "        \\\\usepackage[a4paper, margin=0.5in]{{geometry}}  \n",
    "        \n",
    "        -If you use matrices use the following example as a guide:\n",
    "                ***Example***:\n",
    "               \"\\[\n",
    "                \\begin{{pmatrix}}\n",
    "                1 & 2 & 3 \\\\\n",
    "                4 & 5 & 6 \\\\\n",
    "                7 & 8 & 9\n",
    "                \\end{{pmatrix}}\n",
    "                \\]\"\n",
    "        - Inline Math: Use $ ... $ for inline math.\n",
    "                \n",
    "        - Displayed Equations: Use \\[ ... \\] for displayed equations, which centers the math on its own line.\n",
    "                \n",
    "        - Sections and Items: Use \\section*{{}} for unnumbered sections and enumerate or itemize for lists.\n",
    "\n",
    "        - Always ensure that any opened brackets—such as `{{}}`, `[]`, or `()`—are properly closed in your expressions.\n",
    "\n",
    "        -  Paragraph Formatting**: Break the text into paragraphs appropriately. \n",
    "            Use LaTeX commands to manage text justification to prevent overfull `\\hbox` issues.\n",
    "        \"\"\"\n",
    "        \n",
    "    def Latex_exam(self):\n",
    "            return f\"\"\" - Use this example as a guide \n",
    "            \\section*{{Section A: Multiple-Choice-Questions ( points)}}\n",
    "            \\begin{{enumerate}}\n",
    "                \\item (2 points)\n",
    "                 A car accelerates uniformly from rest to a speed of 20 m/s in 5 seconds. What is the car's acceleration?\n",
    "                \\begin{{itemize}}\n",
    "                    \\item[i)] 2 m/s²\n",
    "                    \\item[ii)] 4 m/s²\n",
    "                    \\item[iii)] 5 m/s²\n",
    "                    \\item[iv)] 10 m/s²\n",
    "                \\end{{itemize}}\n",
    "            \\end{{enumerate}}\n",
    "            \"\"\"\n",
    "       \n",
    "        \n",
    "    def Latex_Formatting(self,application,text):\n",
    "        L_example=\"\"\n",
    "        if application==\"exam\":\n",
    "            L_example=self.Latex_exam()\n",
    "        L_format=self.Latex_math()\n",
    "        SYS_PROMPT = fr\"\"\"You are a highly skilled LaTeX professional. \n",
    "            Your role is to take a user-provided content, which may be in any language, \n",
    "            and convert it into a formatted, well-structured LaTeX document. \n",
    "            Adhere strictly to the specified formatting guidelines to ensure the document is professional, clean, and suitable for formal use.\"\"\"\n",
    "    \n",
    "    \n",
    "     \n",
    "        USER_PROMPT = fr\"\"\"\n",
    "              You have been provided with the following content: {text}.\n",
    "              Please format the provided content into a LaTeX document, adhering strictly to the following formatting guidelines.\\n\n",
    "            1. Preserve the content exactly as it is, without making any changes, omissions, or rearrangements, regardless of the language.\n",
    "            2. Format each section individually, maintaining a clear and logical structure.\n",
    "            3. Maintain the original order of the content throughout the document.\n",
    "            4. Apply the following specific formatting instructions: {L_format}.\n",
    "            {L_example}\n",
    "            5.Ensure the resulting LaTeX document is well-organized, professionally formatted, and ready for formal presentation.\n",
    "           \n",
    "            \"\"\"\n",
    "        messages = [\n",
    "            SystemMessage(content=SYS_PROMPT), \n",
    "            HumanMessage(content=USER_PROMPT)  \n",
    "        ]\n",
    "           \n",
    "        return messages\n",
    "\n",
    "\n"
   ]
  },
  {
   "cell_type": "markdown",
   "id": "16f29cff-19b1-42bb-8184-e9deaad50cdc",
   "metadata": {},
   "source": [
    "### Jetzt wird der Inhalt des Problems in das ChatPromptTemplate eingebaut"
   ]
  },
  {
   "cell_type": "code",
   "execution_count": 36,
   "id": "78774274-cb76-4bd1-af3b-35d72d85ebff",
   "metadata": {},
   "outputs": [],
   "source": [
    "latex=Formatting()\n",
    "prompt2=latex.Latex_Formatting(\"\",physics_problem1.content)"
   ]
  },
  {
   "cell_type": "markdown",
   "id": "740053b2-60df-4708-beac-70446e0fb396",
   "metadata": {},
   "source": [
    "### Dann wird das Ganze dem LLM gefüttert"
   ]
  },
  {
   "cell_type": "code",
   "execution_count": 38,
   "id": "f9a84743-2bb6-4365-8121-5439af91f2db",
   "metadata": {},
   "outputs": [],
   "source": [
    "answer=llm_model.invoke(prompt2)"
   ]
  },
  {
   "cell_type": "code",
   "execution_count": 39,
   "id": "d2564eee-eead-4b62-a1f9-e465d57f79f5",
   "metadata": {
    "scrolled": true
   },
   "outputs": [
    {
     "name": "stdout",
     "output_type": "stream",
     "text": [
      "```latex\n",
      "\\documentclass{article}\n",
      "\\usepackage{amsmath}\n",
      "\\usepackage[a4paper, margin=0.5in]{geometry}\n",
      "\n",
      "\\begin{document}\n",
      "\n",
      "\\section*{Problem}\n",
      "A $2\\times2$ matrix $A$ represents a linear transformation in a certain coordinate system. Find the eigenvalues and eigenvectors of matrix $A$.\n",
      "\n",
      "Matrix $A = \\begin{pmatrix}\n",
      "3 & 1 \\\\\n",
      "1 & 3\n",
      "\\end{pmatrix}$\n",
      "\n",
      "\\section*{Solution}\n",
      "1. To find the eigenvalues, we need to solve the characteristic equation $\\text{det}(A - \\lambda I) = 0$, where $\\lambda$ is the eigenvalue and $I$ is the identity matrix.\n",
      "\n",
      "\\[\n",
      "\\text{det}\\left(\\begin{pmatrix}\n",
      "3-\\lambda & 1 \\\\\n",
      "1 & 3-\\lambda\n",
      "\\end{pmatrix}\\right) = 0\n",
      "\\]\n",
      "\n",
      "\\[\n",
      "(3-\\lambda)(3-\\lambda) - 1 = 0\n",
      "\\]\n",
      "\\[\n",
      "\\lambda^2 - 6\\lambda + 8 = 0\n",
      "\\]\n",
      "\\[\n",
      "(\\lambda-4)(\\lambda-2) = 0\n",
      "\\]\n",
      "\n",
      "Therefore, the eigenvalues are $\\lambda_1 = 4$ and $\\lambda_2 = 2$.\n",
      "\n",
      "2. To find the eigenvectors, we substitute each eigenvalue back into the equation $(A - \\lambda I)v = 0$ and solve for $v$.\n",
      "\n",
      "For $\\lambda_1 = 4$:\n",
      "\\[\n",
      "(A - 4I)v = 0\n",
      "\\]\n",
      "\\[\n",
      "\\begin{pmatrix}\n",
      "-1 & 1 \\\\\n",
      "1 & -1\n",
      "\\end{pmatrix}v = 0\n",
      "\\]\n",
      "\n",
      "Solving the system of equations, we get $v_1 = \\begin{pmatrix} 1 \\\\ 1 \\end{pmatrix}$.\n",
      "\n",
      "For $\\lambda_2 = 2$:\n",
      "\\[\n",
      "(A - 2I)v = 0\n",
      "\\]\n",
      "\\[\n",
      "\\begin{pmatrix}\n",
      "1 & 1 \\\\\n",
      "1 & 1\n",
      "\\end{pmatrix}v = 0\n",
      "\\]\n",
      "\n",
      "Solving the system of equations, we get $v_2 = \\begin{pmatrix} -1 \\\\ 1 \\end{pmatrix}$.\n",
      "\n",
      "Therefore, the eigenvalues of matrix $A$ are 4 and 2, with corresponding eigenvectors $\\begin{pmatrix} 1 \\\\ 1 \\end{pmatrix}$ and $\\begin{pmatrix} -1 \\\\ 1 \\end{pmatrix}$.\n",
      "\n",
      "\\end{document}\n",
      "```\n"
     ]
    }
   ],
   "source": [
    "print(answer.content)"
   ]
  },
  {
   "cell_type": "code",
   "execution_count": 40,
   "id": "eaa408a6-6b27-4d5a-ab72-1bc163281221",
   "metadata": {},
   "outputs": [],
   "source": [
    "Save_File(answer.content,\"latex2_file\")"
   ]
  },
  {
   "cell_type": "markdown",
   "id": "484f9a6e-ba99-4caf-b063-7cab7a7950f3",
   "metadata": {},
   "source": [
    "# Exercise\n",
    "\n",
    "Überlegen Sie sich eine Aufgabe, bei der es Sinn macht FewShotPrompt templates oder Chatprompttemplates zu verwenden.\n",
    "Erstellen Sie zu Ihrer AUfgabe jeweils eines dieser Templates und verwenden Sie diese in einem LLM Aufrauf"
   ]
  },
  {
   "cell_type": "code",
   "execution_count": 13,
   "id": "53eaac0b-089c-4881-95b3-62dde0dacc18",
   "metadata": {},
   "outputs": [],
   "source": [
    "# Falls Ihnen nichts einfällt:\n",
    "question=\"Find two opposite perspectives for the query: {query}\"\n",
    "query=\"Who overthrew the government in Ukraine in 2014\"\n"
   ]
  },
  {
   "cell_type": "code",
   "execution_count": null,
   "id": "ab96969c-b71b-4c29-87b1-8d2e377d1ebd",
   "metadata": {},
   "outputs": [],
   "source": []
  }
 ],
 "metadata": {
  "kernelspec": {
   "display_name": "Python 3 (ipykernel)",
   "language": "python",
   "name": "python3"
  },
  "language_info": {
   "codemirror_mode": {
    "name": "ipython",
    "version": 3
   },
   "file_extension": ".py",
   "mimetype": "text/x-python",
   "name": "python",
   "nbconvert_exporter": "python",
   "pygments_lexer": "ipython3",
   "version": "3.11.2"
  }
 },
 "nbformat": 4,
 "nbformat_minor": 5
}
