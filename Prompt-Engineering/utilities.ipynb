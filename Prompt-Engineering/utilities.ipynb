{
 "cells": [
  {
   "cell_type": "code",
   "execution_count": 8,
   "id": "e31c938b-fe19-48b4-a648-916c0ffd71c6",
   "metadata": {},
   "outputs": [],
   "source": [
    "#pip install langchain langchain-core langchain-core langchain-community langgraph openai langgraph.checkpoint.sqlite"
   ]
  },
  {
   "cell_type": "markdown",
   "id": "85e3fcba-3004-43d6-ba4a-53f714c6298f",
   "metadata": {},
   "source": [
    "# Pip install the following\n",
    "\n",
    "langchain\n",
    "langchain-core\n",
    "langchain-core\n",
    "langchain-openai\n",
    "langchain-community\n",
    "langgraph\n",
    "openai\n",
    "langgraph.checkpoint.sqlite\n",
    "\n",
    "google-generativeai\n",
    "ipywidgets\n",
    "tavily-python\n",
    "param\n",
    "deepl\n",
    "panel\n",
    "serpapi\n",
    "\n",
    "llamaapi\n",
    "\n"
   ]
  },
  {
   "cell_type": "code",
   "execution_count": 2,
   "id": "5663b15e-e58a-4a80-8aae-53b3dc233ff3",
   "metadata": {},
   "outputs": [],
   "source": [
    "########### Langchain   ##########################\n",
    "from langchain_openai import ChatOpenAI\n",
    "from langchain_core.messages import SystemMessage, HumanMessage"
   ]
  },
  {
   "cell_type": "code",
   "execution_count": 3,
   "id": "8ce6a989-4ad0-4ef2-8cc3-e069b1ee812c",
   "metadata": {},
   "outputs": [],
   "source": [
    "############## LLm models ##############\n",
    "import openai\n",
    "from openai import OpenAI\n"
   ]
  },
  {
   "cell_type": "code",
   "execution_count": 4,
   "id": "1626add3-5f40-4488-bc07-ea5a9a7a2302",
   "metadata": {},
   "outputs": [],
   "source": [
    "############## Stuff ##############\n",
    "import locale\n",
    "import yaml\n",
    "import os\n",
    "import panel as pn\n",
    "from IPython.display import display, Markdown,Latex,Image\n"
   ]
  },
  {
   "cell_type": "code",
   "execution_count": 5,
   "id": "ecbbaa79-fd17-4173-843f-e72d0dddd261",
   "metadata": {},
   "outputs": [],
   "source": [
    "################## Loading API keys and initializing clients and llm_models ###############################\n",
    "locale.getpreferredencoding = lambda: \"UTF-8\"\n",
    "with open('../chatgpt_api_credentials.yml', 'r') as file:\n",
    "    api_creds = yaml.safe_load(file)\n",
    "api_creds.keys()\n",
    "os.environ['OPENAI_API_KEY'] = api_creds['openai_key']\n",
    "openai_api_key  = api_creds['openai_key']\n",
    "model= ChatOpenAI(model=\"gpt-3.5-turbo\", temperature=0)\n"
   ]
  },
  {
   "cell_type": "code",
   "execution_count": null,
   "id": "9986d8f5",
   "metadata": {},
   "outputs": [],
   "source": []
  }
 ],
 "metadata": {
  "kernelspec": {
   "display_name": "Python 3 (ipykernel)",
   "language": "python",
   "name": "python3"
  },
  "language_info": {
   "codemirror_mode": {
    "name": "ipython",
    "version": 3
   },
   "file_extension": ".py",
   "mimetype": "text/x-python",
   "name": "python",
   "nbconvert_exporter": "python",
   "pygments_lexer": "ipython3",
   "version": "3.11.2"
  }
 },
 "nbformat": 4,
 "nbformat_minor": 5
}
